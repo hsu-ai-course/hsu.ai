{
 "cells": [
  {
   "cell_type": "code",
   "execution_count": null,
   "id": "7c6bcc44",
   "metadata": {},
   "outputs": [],
   "source": [
    "!pip install spacy"
   ]
  },
  {
   "cell_type": "markdown",
   "id": "8c0908a8",
   "metadata": {},
   "source": [
    "Download a big language model for embedding for English"
   ]
  },
  {
   "cell_type": "code",
   "execution_count": null,
   "id": "3489b296",
   "metadata": {},
   "outputs": [],
   "source": [
    "!python -m spacy download en_core_web_lg"
   ]
  },
  {
   "cell_type": "markdown",
   "id": "e34eb128",
   "metadata": {},
   "source": [
    "Consider an example borrowed from spacy."
   ]
  },
  {
   "cell_type": "code",
   "execution_count": 3,
   "id": "e4bdf888",
   "metadata": {},
   "outputs": [
    {
     "name": "stdout",
     "output_type": "stream",
     "text": [
      "text = dog\t present = True \tNORM = 7.03\tOOV = False\n",
      "text = cat\t present = True \tNORM = 6.68\tOOV = False\n",
      "text = banana\t present = True \tNORM = 6.70\tOOV = False\n",
      "text = afskfsd\t present = False \tNORM = 0.00\tOOV = True\n"
     ]
    }
   ],
   "source": [
    "import spacy\n",
    "\n",
    "nlp = spacy.load(\"en_core_web_lg\")\n",
    "tokens = nlp(\"dog cat banana afskfsd\")\n",
    "\n",
    "for token in tokens:\n",
    "    print(f\"text = {token.text}\\t present = {token.has_vector} \\tNORM = {token.vector_norm:.2f}\\tOOV = {token.is_oov}\")"
   ]
  },
  {
   "cell_type": "markdown",
   "id": "5ba21264",
   "metadata": {},
   "source": [
    "What about similarity? What if we reorder word? Refer to [this]( https://spacy.io/usage/linguistic-features#vectors-similarity)."
   ]
  },
  {
   "cell_type": "code",
   "execution_count": 4,
   "id": "99b48553",
   "metadata": {},
   "outputs": [],
   "source": [
    "doc1 = nlp(\"Cats eat mice.\")\n",
    "doc2 = nlp(\"Mice eat cats.\")\n",
    "\n",
    "# TODO complete the code to esimate similarity between sentences\n",
    "# refer to https://spacy.io/usage/linguistic-features#vectors-similarity\n",
    "# print sentences similarity"
   ]
  },
  {
   "cell_type": "markdown",
   "id": "54c7d9e6",
   "metadata": {},
   "source": [
    "Ok. Let's go for the advanced case. We will do sentence-based embeddings. For this we will use one of the libraries."
   ]
  },
  {
   "cell_type": "code",
   "execution_count": 5,
   "id": "2d003a91",
   "metadata": {},
   "outputs": [],
   "source": [
    "# to install pytorch in cpu mode. Refer to\n",
    "# https://pytorch.org/get-started/locally/\n",
    "# for details\n",
    "# !conda install pytorch torchvision torchaudio cpuonly -c pytorch\n",
    "# !conda install pytorch cpuonly -c pytorch"
   ]
  },
  {
   "cell_type": "markdown",
   "id": "d7bce0c9",
   "metadata": {},
   "source": [
    "We will base sentence embeddings on `sentence_transformers` from [here](https://github.com/UKPLab/sentence-transformers)."
   ]
  },
  {
   "cell_type": "code",
   "execution_count": null,
   "id": "4a44315a",
   "metadata": {},
   "outputs": [],
   "source": [
    "!pip install transformers\n",
    "!pip install -U sentence-transformers"
   ]
  },
  {
   "cell_type": "code",
   "execution_count": 7,
   "id": "d388348c",
   "metadata": {},
   "outputs": [
    {
     "name": "stdout",
     "output_type": "stream",
     "text": [
      "[[-0.17621411  0.12060118 -0.2936239  ...  0.32965153  0.06130076\n",
      "  -0.32493356]\n",
      " [ 0.32208768 -0.00123896  0.179374   ... -0.08103761  0.27076894\n",
      "   0.11700248]\n",
      " [ 0.5897936  -0.23598365 -0.25411704 ...  0.14036159  1.0559162\n",
      "   0.5301812 ]]\n"
     ]
    }
   ],
   "source": [
    "from sentence_transformers import SentenceTransformer\n",
    "# downloads the model first\n",
    "model = SentenceTransformer('paraphrase-MiniLM-L6-v2')"
   ]
  },
  {
   "cell_type": "markdown",
   "id": "e737e2a0",
   "metadata": {},
   "source": [
    "And hopefully test for mice! Refer for [these docs](https://github.com/UKPLab/sentence-transformers) to obtain embeddings and use `scipy.spatial.distance.cosine` to estimate distance."
   ]
  },
  {
   "cell_type": "code",
   "execution_count": 8,
   "id": "fdf855a8",
   "metadata": {},
   "outputs": [
    {
     "data": {
      "text/plain": [
       "0.017541348934173584"
      ]
     },
     "execution_count": 8,
     "metadata": {},
     "output_type": "execute_result"
    }
   ],
   "source": [
    "from scipy.spatial.distance import cosine as cos\n",
    "sents = [\"Cats eat mice.\", \"Mice eat cats.\"]\n",
    "emb = model.encode(sents)\n",
    "\n",
    "# TODO complete the code to compute the embedding similaities"
   ]
  }
 ],
 "metadata": {
  "kernelspec": {
   "display_name": "Python 3",
   "language": "python",
   "name": "python3"
  },
  "language_info": {
   "codemirror_mode": {
    "name": "ipython",
    "version": 3
   },
   "file_extension": ".py",
   "mimetype": "text/x-python",
   "name": "python",
   "nbconvert_exporter": "python",
   "pygments_lexer": "ipython3",
   "version": "3.8.3"
  }
 },
 "nbformat": 4,
 "nbformat_minor": 5
}
