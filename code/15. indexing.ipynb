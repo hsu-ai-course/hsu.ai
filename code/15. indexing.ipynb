{
 "cells": [
  {
   "cell_type": "markdown",
   "metadata": {},
   "source": [
    "# Install dependencies"
   ]
  },
  {
   "cell_type": "code",
   "execution_count": null,
   "metadata": {},
   "outputs": [],
   "source": [
    "!pip install annoy"
   ]
  },
  {
   "cell_type": "code",
   "execution_count": null,
   "metadata": {},
   "outputs": [],
   "source": [
    "!pip install spacy\n",
    "!pip install --user spacy-transformers"
   ]
  },
  {
   "cell_type": "markdown",
   "metadata": {},
   "source": [
    "## Download a model\n",
    "Pretty heavy, will take ~30min to complete"
   ]
  },
  {
   "cell_type": "code",
   "execution_count": null,
   "metadata": {},
   "outputs": [],
   "source": [
    "!python -m spacy download en_trf_distilbertbaseuncased_lg"
   ]
  },
  {
   "cell_type": "code",
   "execution_count": 3,
   "metadata": {},
   "outputs": [],
   "source": [
    "import spacy\n",
    "nlp = spacy.load(\"en_trf_distilbertbaseuncased_lg\")"
   ]
  },
  {
   "cell_type": "markdown",
   "metadata": {},
   "source": [
    "# Read the file\n",
    "Please unpack `JEOPARDY_CSV.zip` file in `datasets/nlp` folder."
   ]
  },
  {
   "cell_type": "code",
   "execution_count": 4,
   "metadata": {},
   "outputs": [],
   "source": [
    "import csv\n",
    "import re\n",
    "tag_cleaner = re.compile('<.*?>')\n",
    "\n",
    "dataset = []\n",
    "with open('datasets/nlp/JEOPARDY_CSV.csv', encoding='utf8') as csvfile:\n",
    "    reader = csv.DictReader(csvfile)\n",
    "    for row in reader:\n",
    "        content = (re.sub(tag_cleaner, '',  row['Question']),  re.sub(tag_cleaner, '',  row['Answer']))\n",
    "        dataset.append(content)"
   ]
  },
  {
   "cell_type": "code",
   "execution_count": 5,
   "metadata": {},
   "outputs": [
    {
     "name": "stdout",
     "output_type": "stream",
     "text": [
      "216930\n"
     ]
    },
    {
     "data": {
      "text/plain": [
       "[('This dog breed seen here is a loyal and protective companion',\n",
       "  'a German Shepherd'),\n",
       " (\"Say the name of this bug; don't worry, it doesn't breathe fire\",\n",
       "  'the dragonfly'),\n",
       " ('(Jimmy of the Clue Crew demonstrates, putting his arm over his mouth.) To avoid spreading germs & maybe flu, we learned the sneeze named for this character made famous in an 1897 book',\n",
       "  'Dracula'),\n",
       " ('Maize is another word for this', 'corn'),\n",
       " ('Of the 6 noble gases on the periodic table, it is the lightest', 'helium')]"
      ]
     },
     "execution_count": 5,
     "metadata": {},
     "output_type": "execute_result"
    }
   ],
   "source": [
    "print(len(dataset))\n",
    "dataset[100:105]"
   ]
  },
  {
   "cell_type": "markdown",
   "metadata": {},
   "source": [
    "# Create embeddings\n",
    "Either choose a smaller subset, or use already prepared index in `Annoy` block.\n",
    "\n",
    "It took ~30min on CPU machine to complete 10K."
   ]
  },
  {
   "cell_type": "code",
   "execution_count": null,
   "metadata": {},
   "outputs": [
    {
     "name": "stderr",
     "output_type": "stream",
     "text": [
      " 54%|█████▍    | 5425/10000 [21:12<25:42,  2.97it/s]  "
     ]
    }
   ],
   "source": [
    "import tqdm \n",
    "\n",
    "vectors = []\n",
    "\n",
    "# tune dataset part to fit into time. Say, take 1000 items\n",
    "for i, content in enumerate(tqdm.tqdm(dataset[:10000])):\n",
    "    keys = nlp(content[0]).vector, nlp(content[1]).vector\n",
    "    vectors.append((keys[0], i))\n",
    "    vectors.append((keys[1], i))"
   ]
  },
  {
   "cell_type": "markdown",
   "metadata": {},
   "source": [
    "# Annoy"
   ]
  },
  {
   "cell_type": "code",
   "execution_count": 14,
   "metadata": {},
   "outputs": [
    {
     "data": {
      "text/plain": [
       "True"
      ]
     },
     "execution_count": 14,
     "metadata": {},
     "output_type": "execute_result"
    }
   ],
   "source": [
    "from annoy import AnnoyIndex\n",
    "\n",
    "n_dimensions = len(vectors[0][0])\n",
    "n_trees = 50\n",
    "n_neighbours = 10\n",
    "\n",
    "index = AnnoyIndex(n_dimensions, 'angular')\n",
    "for vec, val in vectors:\n",
    "    index.add_item(val, vec)\n",
    "    \n",
    "index.build(n_trees)\n",
    "# index.save('jeopardy.annoy')\n",
    "# index = AnnoyIndex(n_dimensions, 'angular')\n",
    "# index.load('jeopardy.annoy')"
   ]
  },
  {
   "cell_type": "code",
   "execution_count": null,
   "metadata": {},
   "outputs": [],
   "source": [
    "def get_nearest_texts(query, index, dataset, n_neighbours=5):\n",
    "    result = set(index.get_nns_by_vector(nlp(q).vector, n_neighbours))\n",
    "    return [dataset[r] for r in result]"
   ]
  },
  {
   "cell_type": "code",
   "execution_count": null,
   "metadata": {},
   "outputs": [],
   "source": [
    "import time\n",
    "queries = [\"Horses\", \"Actors\", \"life facts\"]\n",
    "\n",
    "for q in queries:\n",
    "    s = time.time()\n",
    "    result = get_nearest_texts(q, index, dataset)\n",
    "    f = time.time()\n",
    "    print(\"Q:\", q, \"time:\", f-s)\n",
    "    for r in result:\n",
    "        print(\"\\t\", r)"
   ]
  },
  {
   "cell_type": "markdown",
   "metadata": {},
   "source": [
    "# TODO\n",
    "Implement exhaustive search and compare speed and quality"
   ]
  }
 ],
 "metadata": {
  "kernelspec": {
   "display_name": "Python 3",
   "language": "python",
   "name": "python3"
  },
  "language_info": {
   "codemirror_mode": {
    "name": "ipython",
    "version": 3
   },
   "file_extension": ".py",
   "mimetype": "text/x-python",
   "name": "python",
   "nbconvert_exporter": "python",
   "pygments_lexer": "ipython3",
   "version": "3.8.3"
  }
 },
 "nbformat": 4,
 "nbformat_minor": 4
}
