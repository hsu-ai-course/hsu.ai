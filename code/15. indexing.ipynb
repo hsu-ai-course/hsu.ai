{
 "cells": [
  {
   "cell_type": "markdown",
   "metadata": {},
   "source": [
    "# Install dependencies"
   ]
  },
  {
   "cell_type": "code",
   "execution_count": null,
   "metadata": {},
   "outputs": [],
   "source": [
    "!pip install annoy"
   ]
  },
  {
   "cell_type": "code",
   "execution_count": null,
   "metadata": {},
   "outputs": [],
   "source": [
    "!pip install spacy\n",
    "!pip install --user spacy-transformers"
   ]
  },
  {
   "cell_type": "markdown",
   "metadata": {},
   "source": [
    "## Download a model\n",
    "Pretty heavy, will take ~30min to complete"
   ]
  },
  {
   "cell_type": "code",
   "execution_count": null,
   "metadata": {},
   "outputs": [],
   "source": [
    "!python -m spacy download en_trf_distilbertbaseuncased_lg"
   ]
  },
  {
   "cell_type": "code",
   "execution_count": 3,
   "metadata": {},
   "outputs": [],
   "source": [
    "import spacy\n",
    "nlp = spacy.load(\"en_trf_distilbertbaseuncased_lg\")"
   ]
  },
  {
   "cell_type": "markdown",
   "metadata": {},
   "source": [
    "# Read the file\n",
    "Please unpack `JEOPARDY_CSV.zip` file in `datasets/nlp` folder."
   ]
  },
  {
   "cell_type": "code",
   "execution_count": 4,
   "metadata": {},
   "outputs": [],
   "source": [
    "import csv\n",
    "import re\n",
    "tag_cleaner = re.compile('<.*?>')\n",
    "\n",
    "dataset = []\n",
    "with open('datasets/nlp/JEOPARDY_CSV.csv', encoding='utf8') as csvfile:\n",
    "    reader = csv.DictReader(csvfile)\n",
    "    for row in reader:\n",
    "        content = (re.sub(tag_cleaner, '',  row['Question']),  re.sub(tag_cleaner, '',  row['Answer']))\n",
    "        dataset.append(content)"
   ]
  },
  {
   "cell_type": "code",
   "execution_count": 5,
   "metadata": {},
   "outputs": [
    {
     "name": "stdout",
     "output_type": "stream",
     "text": [
      "216930\n"
     ]
    },
    {
     "data": {
      "text/plain": [
       "[('This dog breed seen here is a loyal and protective companion',\n",
       "  'a German Shepherd'),\n",
       " (\"Say the name of this bug; don't worry, it doesn't breathe fire\",\n",
       "  'the dragonfly'),\n",
       " ('(Jimmy of the Clue Crew demonstrates, putting his arm over his mouth.) To avoid spreading germs & maybe flu, we learned the sneeze named for this character made famous in an 1897 book',\n",
       "  'Dracula'),\n",
       " ('Maize is another word for this', 'corn'),\n",
       " ('Of the 6 noble gases on the periodic table, it is the lightest', 'helium')]"
      ]
     },
     "execution_count": 5,
     "metadata": {},
     "output_type": "execute_result"
    }
   ],
   "source": [
    "print(len(dataset))\n",
    "dataset[100:105]"
   ]
  },
  {
   "cell_type": "markdown",
   "metadata": {},
   "source": [
    "# Create embeddings\n",
    "Either choose a smaller subset, or use already prepared index in `Annoy` block.\n",
    "\n",
    "It took ~40min on CPU machine to complete 10K."
   ]
  },
  {
   "cell_type": "code",
   "execution_count": 21,
   "metadata": {},
   "outputs": [
    {
     "name": "stderr",
     "output_type": "stream",
     "text": [
      "100%|██████████| 10000/10000 [36:56<00:00,  4.51it/s] \n"
     ]
    }
   ],
   "source": [
    "import tqdm \n",
    "\n",
    "vectors = []\n",
    "SHARD_SIZE = 10000n_neighbourstune dataset part to fit into time. Say, take 1000 items\n",
    "for i, content in enumerate(tqdm.tqdm(dataset[:SHARD_SIZE])):\n",
    "    keys = nlp(content[0]).vector, nlp(content[1]).vector\n",
    "    vectors.append((keys[0], i))\n",
    "    vectors.append((keys[1], i))"
   ]
  },
  {
   "cell_type": "markdown",
   "metadata": {},
   "source": [
    "## Save vectors"
   ]
  },
  {
   "cell_type": "code",
   "execution_count": 23,
   "metadata": {},
   "outputs": [],
   "source": [
    "import pickle\n",
    "with open('datasets/nlp/jeopardy.pickle', 'wb') as f:\n",
    "    pickle.dump(vectors, f)\n",
    "    \n",
    "with open('datasets/nlp/jeopardy.pickle', 'rb') as f:\n",
    "    vectors = pickle.load(f)"
   ]
  },
  {
   "cell_type": "markdown",
   "metadata": {},
   "source": [
    "# Annoy"
   ]
  },
  {
   "cell_type": "code",
   "execution_count": 24,
   "metadata": {},
   "outputs": [
    {
     "data": {
      "text/plain": [
       "True"
      ]
     },
     "execution_count": 24,
     "metadata": {},
     "output_type": "execute_result"
    }
   ],
   "source": [
    "from annoy import AnnoyIndex\n",
    "\n",
    "n_dimensions = len(vectors[0][0])\n",
    "n_trees = 50\n",
    "n_neighbours = 10\n",
    "\n",
    "index = AnnoyIndex(n_dimensions, 'angular')\n",
    "for vec, val in vectors:\n",
    "    index.add_item(val, vec)\n",
    "    \n",
    "index.build(n_trees)\n",
    "index.save('datasets/nlp/jeopardy.annoy')\n",
    "\n",
    "# Use these lines to load index from repository\n",
    "# index = AnnoyIndex(n_dimensions, 'angular')\n",
    "# index.load('datasets/nlp/jeopardy.annoy')"
   ]
  },
  {
   "cell_type": "code",
   "execution_count": 25,
   "metadata": {},
   "outputs": [],
   "source": [
    "def get_nearest_texts(query, index, dataset, n_neighbours=5):\n",
    "    result = set(index.get_nns_by_vector(nlp(q).vector, n_neighbours))\n",
    "    return [dataset[r] for r in result]"
   ]
  },
  {
   "cell_type": "code",
   "execution_count": 26,
   "metadata": {},
   "outputs": [
    {
     "name": "stdout",
     "output_type": "stream",
     "text": [
      "Query: Horses time: 0.3620262145996094\n",
      "\tQ: Sometimes called \"Irish Cobs\" or \"Gypsy Cobs\", Irish Tinkers are a type of this animal\n",
      "\tA: horse\n",
      "\tQ: Jordan & Bird hit \"nothing but net\" playing this shot-for-shot basketball game in 1990s TV ads for McDonald's\n",
      "\tA: HORSE\n",
      "\tQ: A long-standing tradition in France, hippophagy is the consumption of this\n",
      "\tA: horse\n",
      "\tQ: Trainers shout, \"Tail Up!\" when they want these performers to follow each other trunk to tail\n",
      "\tA: Elephants\n",
      "\tQ: Lincoln once said not to \"swap\" these \"while crossing a stream\"\n",
      "\tA: horses\n",
      "Query: Actors time: 0.0500028133392334\n",
      "\tQ: Examples of this TV format include \"Leave It to Beaver\" & \"The King of Queens\"\n",
      "\tA: sitcom\n",
      "\tQ: Oliver Wendell Holmes said not to falsely yell \"Fire\" in one of these, where 850 Viennese died Dec. 8, 1881\n",
      "\tA: Theater\n",
      "\tQ: Kangaroos, monkeys & Boy Scouts all come in these groups\n",
      "\tA: troops\n",
      "\tQ: Crowds flock to Dodona, Philippi & Thassos to see festivals of this art performed in ancient venues\n",
      "\tA: Theater\n",
      "\tQ: Joshua\n",
      "\tA: Judges\n",
      "Query: life facts time: 0.0590062141418457\n",
      "\tQ: Star Tracks, Scoop, Chatter\n",
      "\tA: People\n",
      "\tQ: Katharine Hamnett created the '80s T-shirt telling us to \"choose\" this\n",
      "\tA: Life\n",
      "\tQ: This word precedes \"Conservancy\" in the name of a group with a million members\n",
      "\tA: Nature\n",
      "\tQ: Bread is eaten so widely it's often called the \"staff of\" this\n",
      "\tA: life\n",
      "\tQ: 1980: \"Regular Folks\"\n",
      "\tA: Ordinary People\n"
     ]
    }
   ],
   "source": [
    "import time\n",
    "queries = [\"Horses\", \"Actors\", \"life facts\"]\n",
    "\n",
    "for q in queries:\n",
    "    s = time.time()\n",
    "    result = get_nearest_texts(q, index, dataset)\n",
    "    f = time.time()\n",
    "    print(\"Query:\", q, \"time:\", f-s)\n",
    "    for r in result:\n",
    "        print(\"\\tQ:\", r[0])\n",
    "        print(\"\\tA:\", r[1])"
   ]
  },
  {
   "cell_type": "markdown",
   "metadata": {},
   "source": [
    "# TODO\n",
    "Implement exhaustive search and compare speed and quality"
   ]
  }
 ],
 "metadata": {
  "kernelspec": {
   "display_name": "Python 3",
   "language": "python",
   "name": "python3"
  },
  "language_info": {
   "codemirror_mode": {
    "name": "ipython",
    "version": 3
   },
   "file_extension": ".py",
   "mimetype": "text/x-python",
   "name": "python",
   "nbconvert_exporter": "python",
   "pygments_lexer": "ipython3",
   "version": "3.8.3"
  }
 },
 "nbformat": 4,
 "nbformat_minor": 4
}
