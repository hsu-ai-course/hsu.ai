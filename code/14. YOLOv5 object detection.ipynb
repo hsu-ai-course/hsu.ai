{
 "cells": [
  {
   "cell_type": "markdown",
   "id": "05279201-2bff-4da7-87e6-7e134b83568e",
   "metadata": {},
   "source": [
    "Based on https://github.com/ultralytics/yolov5"
   ]
  },
  {
   "cell_type": "code",
   "execution_count": 25,
   "id": "3157f6dd-ac0b-48c6-b98b-686cd441bd6a",
   "metadata": {},
   "outputs": [
    {
     "name": "stderr",
     "output_type": "stream",
     "text": [
      "Using cache found in C:\\Users\\stani/.cache\\torch\\hub\\ultralytics_yolov5_master\n",
      "YOLOv5  2021-9-20 torch 1.9.0+cpu CPU\n",
      "\n",
      "Fusing layers... \n",
      "Model Summary: 224 layers, 7266973 parameters, 0 gradients\n",
      "Adding AutoShape... \n"
     ]
    },
    {
     "name": "stdout",
     "output_type": "stream",
     "text": [
      "Result type <class 'models.common.Detections'>\n"
     ]
    },
    {
     "data": {
      "text/html": [
       "<div>\n",
       "<style scoped>\n",
       "    .dataframe tbody tr th:only-of-type {\n",
       "        vertical-align: middle;\n",
       "    }\n",
       "\n",
       "    .dataframe tbody tr th {\n",
       "        vertical-align: top;\n",
       "    }\n",
       "\n",
       "    .dataframe thead th {\n",
       "        text-align: right;\n",
       "    }\n",
       "</style>\n",
       "<table border=\"1\" class=\"dataframe\">\n",
       "  <thead>\n",
       "    <tr style=\"text-align: right;\">\n",
       "      <th></th>\n",
       "      <th>xmin</th>\n",
       "      <th>ymin</th>\n",
       "      <th>xmax</th>\n",
       "      <th>ymax</th>\n",
       "      <th>confidence</th>\n",
       "      <th>class</th>\n",
       "      <th>name</th>\n",
       "    </tr>\n",
       "  </thead>\n",
       "  <tbody>\n",
       "    <tr>\n",
       "      <th>0</th>\n",
       "      <td>938.698853</td>\n",
       "      <td>467.998718</td>\n",
       "      <td>1080.469604</td>\n",
       "      <td>813.366577</td>\n",
       "      <td>0.580891</td>\n",
       "      <td>0</td>\n",
       "      <td>person</td>\n",
       "    </tr>\n",
       "    <tr>\n",
       "      <th>1</th>\n",
       "      <td>913.340210</td>\n",
       "      <td>543.765381</td>\n",
       "      <td>1043.673584</td>\n",
       "      <td>623.448792</td>\n",
       "      <td>0.567454</td>\n",
       "      <td>63</td>\n",
       "      <td>laptop</td>\n",
       "    </tr>\n",
       "    <tr>\n",
       "      <th>2</th>\n",
       "      <td>1126.052979</td>\n",
       "      <td>542.640137</td>\n",
       "      <td>1154.458740</td>\n",
       "      <td>620.805481</td>\n",
       "      <td>0.544475</td>\n",
       "      <td>39</td>\n",
       "      <td>bottle</td>\n",
       "    </tr>\n",
       "    <tr>\n",
       "      <th>3</th>\n",
       "      <td>211.100647</td>\n",
       "      <td>666.806885</td>\n",
       "      <td>327.043060</td>\n",
       "      <td>835.686646</td>\n",
       "      <td>0.493217</td>\n",
       "      <td>28</td>\n",
       "      <td>suitcase</td>\n",
       "    </tr>\n",
       "  </tbody>\n",
       "</table>\n",
       "</div>"
      ],
      "text/plain": [
       "          xmin        ymin         xmax        ymax  confidence  class  \\\n",
       "0   938.698853  467.998718  1080.469604  813.366577    0.580891      0   \n",
       "1   913.340210  543.765381  1043.673584  623.448792    0.567454     63   \n",
       "2  1126.052979  542.640137  1154.458740  620.805481    0.544475     39   \n",
       "3   211.100647  666.806885   327.043060  835.686646    0.493217     28   \n",
       "\n",
       "       name  \n",
       "0    person  \n",
       "1    laptop  \n",
       "2    bottle  \n",
       "3  suitcase  "
      ]
     },
     "execution_count": 25,
     "metadata": {},
     "output_type": "execute_result"
    }
   ],
   "source": [
    "import torch\n",
    "\n",
    "# Model\n",
    "model = torch.hub.load('ultralytics/yolov5', 'yolov5s')  # or yolov5m, yolov5l, yolov5x, custom\n",
    "\n",
    "# Images\n",
    "img = 'https://ultralytics.com/images/zidane.jpg'  # or file, Path, PIL, OpenCV, numpy, list\n",
    "img = 'https://innopolis.university/upload/landing/c9d/image_3.1@2x.jpg'\n",
    "# Inference\n",
    "results = model(img)\n",
    "\n",
    "print(\"Result type\", type(results))\n",
    "pandas_detections_df = results.pandas().xyxy[0]\n",
    "\n",
    "pandas_detections_df"
   ]
  },
  {
   "cell_type": "markdown",
   "id": "ef3d0adf-27e1-432d-bcc8-b3a2b0742bbb",
   "metadata": {},
   "source": [
    "## TODO: Display the image and overalay in with detections"
   ]
  },
  {
   "cell_type": "code",
   "execution_count": null,
   "id": "1d5f10d6-648e-43b8-aeeb-c333e458b2bc",
   "metadata": {},
   "outputs": [],
   "source": []
  }
 ],
 "metadata": {
  "kernelspec": {
   "display_name": "Python [conda env:pai]",
   "language": "python",
   "name": "conda-env-pai-py"
  },
  "language_info": {
   "codemirror_mode": {
    "name": "ipython",
    "version": 3
   },
   "file_extension": ".py",
   "mimetype": "text/x-python",
   "name": "python",
   "nbconvert_exporter": "python",
   "pygments_lexer": "ipython3",
   "version": "3.9.6"
  }
 },
 "nbformat": 4,
 "nbformat_minor": 5
}
