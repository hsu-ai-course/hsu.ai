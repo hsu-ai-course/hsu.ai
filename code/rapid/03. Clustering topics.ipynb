{
 "cells": [
  {
   "cell_type": "markdown",
   "id": "41d49f1e-bc2f-44ee-afdc-f681f3b3c219",
   "metadata": {},
   "source": [
    "# Let's reproduce \"Yandex trick\"\n",
    "\n",
    "1. Find 5-15 clusters with any `KMeans` method. Select clustering with the best score (Dunn, silhouette, ...).\n",
    "2. Print those clusters.\n",
    "2. Find vector centroids of those clusters.\n",
    "3. Print **words**, that match these centroids best (1-NN) (maybe not from the list)."
   ]
  },
  {
   "cell_type": "code",
   "execution_count": 1,
   "id": "3339e5ac-2955-4e90-a5d7-caa9b5bf1752",
   "metadata": {},
   "outputs": [],
   "source": [
    "topics = \"\"\"space\n",
    "languages\n",
    "geography\n",
    "easter\n",
    "cryptocurrency\n",
    "chemistry\n",
    "Internet\n",
    "social networks\n",
    "ancient Rome\n",
    "ships\n",
    "electricity\n",
    "ancient world\n",
    "geology\n",
    "religion\n",
    "travel\n",
    "memes\n",
    "education\n",
    "education\n",
    "vaccinations\n",
    "computers\n",
    "flu\n",
    "google\n",
    "browsers\n",
    "games\n",
    "easter eggs\n",
    "search engines\n",
    "English\n",
    "ancient Greece\n",
    "health\n",
    "smartphones\n",
    "psychology\n",
    "psychotherapy\n",
    "\"\"\"\n",
    "topics = topics.strip().split('\\n')"
   ]
  },
  {
   "cell_type": "markdown",
   "id": "8a5fe058-a264-4a07-b439-20bfe22d49e0",
   "metadata": {},
   "source": [
    "## NLP dependencies"
   ]
  },
  {
   "cell_type": "code",
   "execution_count": null,
   "id": "5030e2b7-64a9-4653-b914-1a4afdbe6104",
   "metadata": {},
   "outputs": [],
   "source": [
    "!pip install spacy\n",
    "!python -m spacy download en_core_web_md"
   ]
  },
  {
   "cell_type": "code",
   "execution_count": 7,
   "id": "b3333aea-42b3-4abe-881b-23240a25d6f1",
   "metadata": {},
   "outputs": [],
   "source": [
    "import spacy\n",
    "import os\n",
    "import pickle\n",
    "spacy_model = spacy.load('en_core_web_md')"
   ]
  },
  {
   "cell_type": "markdown",
   "id": "96327255-040c-4b60-937b-adc951cb33cc",
   "metadata": {},
   "source": [
    "Topic vector representations"
   ]
  },
  {
   "cell_type": "code",
   "execution_count": 8,
   "id": "fc843a9c-17ba-4ad5-ae73-780da88f765a",
   "metadata": {},
   "outputs": [],
   "source": [
    "dataset = []\n",
    "for topic in topics:\n",
    "    dataset.append(spacy_model(topic).vector)"
   ]
  },
  {
   "cell_type": "markdown",
   "id": "55d46f6a-6534-40d8-b493-a588abacc5ca",
   "metadata": {},
   "source": [
    "TODO split these words into groups with `k-means`, compute silhouette_score and find the best `k`."
   ]
  },
  {
   "cell_type": "code",
   "execution_count": 9,
   "id": "bae10c6a-4757-4993-a6f6-b7d062e3fd23",
   "metadata": {},
   "outputs": [
    {
     "name": "stdout",
     "output_type": "stream",
     "text": [
      "k = 5, SC = 0.06460712105035782\n",
      "k = 6, SC = 0.08223750442266464\n",
      "k = 7, SC = 0.10156704485416412\n",
      "k = 8, SC = 0.11370633542537689\n",
      "k = 9, SC = 0.11058440059423447\n",
      "k = 10, SC = 0.12916387617588043\n",
      "k = 11, SC = 0.1208348423242569\n",
      "k = 12, SC = 0.1435333788394928\n",
      "k = 13, SC = 0.13868805766105652\n",
      "k = 14, SC = 0.163382887840271\n",
      "\n",
      "[(0, 3, 'easter'), (0, 24, 'easter eggs'), (1, 16, 'education'), (1, 17, 'education'), (1, 28, 'health'), (1, 30, 'psychology'), (2, 19, 'computers'), (2, 22, 'browsers'), (2, 29, 'smartphones'), (3, 8, 'ancient Rome'), (3, 9, 'ships'), (3, 11, 'ancient world'), (3, 13, 'religion'), (3, 14, 'travel'), (3, 27, 'ancient Greece'), (4, 18, 'vaccinations'), (4, 20, 'flu'), (5, 23, 'games'), (6, 0, 'space'), (6, 6, 'Internet'), (6, 7, 'social networks'), (6, 15, 'memes'), (6, 21, 'google'), (6, 25, 'search engines'), (7, 2, 'geography'), (7, 5, 'chemistry'), (7, 12, 'geology'), (8, 4, 'cryptocurrency'), (9, 31, 'psychotherapy'), (10, 10, 'electricity'), (11, 1, 'languages'), (11, 26, 'English')]\n"
     ]
    }
   ],
   "source": [
    "from sklearn.cluster import KMeans\n",
    "from sklearn.metrics import silhouette_score\n",
    "\n",
    "# todo"
   ]
  },
  {
   "cell_type": "markdown",
   "id": "af9f362d-de53-439a-b78f-8b4ea07be60a",
   "metadata": {},
   "source": [
    "[!!] \n",
    "*TODO* find the word closest to centroid of the cluster."
   ]
  },
  {
   "cell_type": "code",
   "execution_count": 14,
   "id": "2fce6ef2-c1bd-4622-8576-57e553fd735a",
   "metadata": {},
   "outputs": [
    {
     "name": "stdout",
     "output_type": "stream",
     "text": [
      "Clipart : ['easter', 'easter eggs']\n",
      "post-secondary : ['education', 'education', 'health', 'psychology']\n",
      "MARKETSHARE : ['computers', 'browsers', 'smartphones']\n",
      "THOUSAND-YEAR-OLD : ['ancient Rome', 'ships', 'ancient world', 'religion', 'travel', 'ancient Greece']\n",
      "Diphtheria-Tetanus-Pertussis : ['vaccinations', 'flu']\n",
      "GAMES : ['games']\n",
      "Intenet : ['space', 'Internet', 'social networks', 'memes', 'google', 'search engines']\n",
      "ARCHAEOLOGY : ['geography', 'chemistry', 'geology']\n",
      "Currency-Trading : ['cryptocurrency']\n",
      "PSYCHOTHERAPY : ['psychotherapy']\n",
      "Nuclear-Generated : ['electricity']\n",
      "MULTILINGUAL : ['languages', 'English']\n"
     ]
    }
   ],
   "source": [
    "# TODO"
   ]
  }
 ],
 "metadata": {
  "kernelspec": {
   "display_name": "Python [conda env:pai]",
   "language": "python",
   "name": "conda-env-pai-py"
  },
  "language_info": {
   "codemirror_mode": {
    "name": "ipython",
    "version": 3
   },
   "file_extension": ".py",
   "mimetype": "text/x-python",
   "name": "python",
   "nbconvert_exporter": "python",
   "pygments_lexer": "ipython3",
   "version": "3.9.6"
  }
 },
 "nbformat": 4,
 "nbformat_minor": 5
}
