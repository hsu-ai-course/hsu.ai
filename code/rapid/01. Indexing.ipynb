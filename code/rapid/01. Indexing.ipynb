{
 "cells": [
  {
   "cell_type": "markdown",
   "id": "1c5e136d-3448-49ce-8d65-8a0183f0cd5c",
   "metadata": {},
   "source": [
    "# Naive search\n",
    "Naive search uses string-by-string lookup, with the best search time of `O(stings+query)`. Indexing allows to break this linear dependency. But we will start with naive search.\n",
    "\n",
    "Start your journey with unpacking `../datasets/nlp/JEOPARDY_CSV.zip`."
   ]
  },
  {
   "cell_type": "code",
   "execution_count": 1,
   "id": "afc392fe-17e3-431c-96e9-6f9a9e3ad8ad",
   "metadata": {},
   "outputs": [],
   "source": [
    "from time import time\n",
    "import csv"
   ]
  },
  {
   "cell_type": "markdown",
   "id": "e60828f1-8a28-43c4-8aca-3a298beba0e1",
   "metadata": {},
   "source": [
    "Let's use a single query for all experiments."
   ]
  },
  {
   "cell_type": "code",
   "execution_count": 2,
   "id": "9d57a489-041b-45f0-b5fc-12f06ec9e1b6",
   "metadata": {},
   "outputs": [],
   "source": [
    "query = \"African country\""
   ]
  },
  {
   "cell_type": "markdown",
   "id": "652121a8-e77f-4b0a-8644-d4c0c3b1a24e",
   "metadata": {},
   "source": [
    "Reading the dataset as the list of questions (only)."
   ]
  },
  {
   "cell_type": "code",
   "execution_count": 3,
   "id": "577340cb-a98d-45ca-b066-ec340b8abf7d",
   "metadata": {},
   "outputs": [
    {
     "name": "stdout",
     "output_type": "stream",
     "text": [
      "Dataset load time: 0.691 sec.\n",
      "Dataset length: 216931\n",
      "Example: In September 1999 an abridged version of his \"City of God\" ranked 9,821st on Amazon.com's sales list\n"
     ]
    }
   ],
   "source": [
    "start = time()\n",
    "dataset = []\n",
    "with open('../datasets/nlp/JEOPARDY_CSV.csv', newline='', encoding='utf8') as csvfile:\n",
    "    reader = csv.reader(csvfile, delimiter=',', quotechar='\"')\n",
    "    for row in reader:\n",
    "        dataset.append(row[5])\n",
    "stop = time()\n",
    "print(f\"Dataset load time: {stop - start:.3f} sec.\")\n",
    "print(\"Dataset length:\", len(dataset))\n",
    "print(\"Example:\", dataset[1000])"
   ]
  },
  {
   "cell_type": "markdown",
   "id": "439cae83-4c24-46bd-8a59-4856f30db5a1",
   "metadata": {},
   "source": [
    "We will produce few scaled versions of the dataset. \n",
    "\n",
    "**NB** You can add bigger sizes into the list, but this will require significant time for some experiments."
   ]
  },
  {
   "cell_type": "code",
   "execution_count": 5,
   "id": "035ed1a6-54e1-473a-b7f1-ef7ccb7ccbad",
   "metadata": {},
   "outputs": [],
   "source": [
    "datasets = [dataset * k for k in [1, 2, 5]]\n",
    "dataset_sizes = [len(d) for d in datasets]"
   ]
  },
  {
   "cell_type": "markdown",
   "id": "c459c7dc-c4ae-4817-a9a3-97f8acab4598",
   "metadata": {},
   "source": [
    "## Naive implementation of substring search\n",
    "\n",
    "*TODO:*\n",
    "Implement a naive search of a substring in the list."
   ]
  },
  {
   "cell_type": "code",
   "execution_count": 6,
   "id": "c2a1357c-2d03-4503-9c81-acb6ed7acefb",
   "metadata": {},
   "outputs": [],
   "source": [
    "def naive_search(dataset, query):\n",
    "    '''\n",
    "    Method accepts a `dataset` -- list of strings\n",
    "    And a `query` - string.\n",
    "    It should return a list of dataset ROW NUMBERS as a result.\n",
    "    '''\n",
    "    result = []\n",
    "    \n",
    "    for i, line in enumerate(dataset):\n",
    "        if query in line:\n",
    "            result.append(i)\n",
    "    \n",
    "    return result"
   ]
  },
  {
   "cell_type": "markdown",
   "id": "5e71b414-286e-4375-a193-dbea6f76d62b",
   "metadata": {},
   "source": [
    "Let's measure 2 most important things about the search: how accuarate it is, and how fast."
   ]
  },
  {
   "cell_type": "code",
   "execution_count": 7,
   "id": "97de2935-964e-424b-b292-18ef492fddf8",
   "metadata": {},
   "outputs": [],
   "source": [
    "naive_timings = []\n",
    "naive_results = []\n",
    "\n",
    "for dataset in datasets:\n",
    "    start = time()\n",
    "    res = naive_search(dataset, query)\n",
    "    stop = time()\n",
    "    naive_results.append(res)\n",
    "    naive_timings.append(stop - start)"
   ]
  },
  {
   "cell_type": "markdown",
   "id": "1c23f20d-f1fd-4fae-991c-30c5a68a6371",
   "metadata": {},
   "source": [
    "### Measuring precision\n",
    "`precision = (true detections) / (all detections)`"
   ]
  },
  {
   "cell_type": "code",
   "execution_count": 38,
   "id": "0d17efb8-b147-4941-b901-ada8cd98ad12",
   "metadata": {},
   "outputs": [],
   "source": [
    "def precision(reference, serp, over=100, c=1):\n",
    "    return min(1, len(set(serp[:int(c * over)]).intersection(reference)) / min(over, len(reference)))"
   ]
  },
  {
   "cell_type": "code",
   "execution_count": 36,
   "id": "636ec9e0-da1c-42e0-981a-a1b7f5d54be8",
   "metadata": {},
   "outputs": [],
   "source": [
    "import matplotlib.pyplot as plt\n",
    "\n",
    "def plot_precision(ref_results, results, c=1):\n",
    "    over = [10, 20, 50, 100]\n",
    "    for i, ref in enumerate(ref_results):\n",
    "        precisions = [\n",
    "            precision(ref, results[i], c=c)\n",
    "            for k in over\n",
    "        ]\n",
    "        plt.plot(over, precisions, label=f\"|DS|={len(datasets[i])}\")\n",
    "    plt.xlabel(\"@K\")\n",
    "    plt.ylabel(\"precision\")\n",
    "    plt.legend()\n",
    "    plt.show()"
   ]
  },
  {
   "cell_type": "markdown",
   "id": "9c043d5d-7494-47be-b2ef-122cbef4f1a8",
   "metadata": {},
   "source": [
    "Obviously, if we compare to itself, we obtain 100%."
   ]
  },
  {
   "cell_type": "code",
   "execution_count": 31,
   "id": "646f2bda-f1d7-472b-9c1f-cb1f45eeb77e",
   "metadata": {},
   "outputs": [
    {
     "data": {
      "image/png": "[encoded data removed]",
      "text/plain": [
       "<Figure size 432x288 with 1 Axes>"
      ]
     },
     "metadata": {
      "needs_background": "light"
     },
     "output_type": "display_data"
    }
   ],
   "source": [
    "plot_precision(naive_results, naive_results)"
   ]
  },
  {
   "cell_type": "markdown",
   "id": "f2fe4a33-3ada-4f1b-b5e4-c02fe4c2071b",
   "metadata": {},
   "source": [
    "### Measuring time"
   ]
  },
  {
   "cell_type": "code",
   "execution_count": 11,
   "id": "8e6dc1bf-43ef-41ff-95f6-d940a92ac4ac",
   "metadata": {},
   "outputs": [
    {
     "data": {
      "image/png": "[encoded data removed]",
      "text/plain": [
       "<Figure size 432x288 with 1 Axes>"
      ]
     },
     "metadata": {
      "needs_background": "light"
     },
     "output_type": "display_data"
    }
   ],
   "source": [
    "import matplotlib.pyplot as plt\n",
    "plt.plot(dataset_sizes, naive_timings)\n",
    "plt.xlabel(\"dataset size, lines\")\n",
    "plt.ylabel(\"search time, s\")\n",
    "plt.show()"
   ]
  },
  {
   "cell_type": "markdown",
   "id": "754aadb0-3873-4f74-bab9-9904f4b040b5",
   "metadata": {},
   "source": [
    "## How about inverted indexing?\n",
    "\n",
    "Let's start with important imports"
   ]
  },
  {
   "cell_type": "code",
   "execution_count": null,
   "id": "562a1c79-22c9-4c23-9cce-e6c7713f5095",
   "metadata": {},
   "outputs": [],
   "source": [
    "!pip install tqdm"
   ]
  },
  {
   "cell_type": "code",
   "execution_count": 12,
   "id": "b54b0783-bc30-4bac-aa83-e5d27d3acb3d",
   "metadata": {},
   "outputs": [],
   "source": [
    "# nltk - toolkit for natural language. Will do tokenization and stemming for us.\n",
    "import nltk\n",
    "from nltk import tokenize\n",
    "from nltk.stem.snowball import SnowballStemmer\n",
    "\n",
    "# progress visualization\n",
    "from tqdm import tqdm \n",
    "\n",
    "# as we upscale the dataset with repetition, we can utilize this to avoid recomputing\n",
    "STEM_CACHE = dict()"
   ]
  },
  {
   "cell_type": "markdown",
   "id": "ddca25a9-6763-4cf6-b3e5-9111b76c4352",
   "metadata": {},
   "source": [
    "This function produces stems out of the original sentence."
   ]
  },
  {
   "cell_type": "code",
   "execution_count": 14,
   "id": "b0802193-91ce-45ef-b0fd-63c8565b3ab8",
   "metadata": {},
   "outputs": [],
   "source": [
    "def to_stems(dataset, silent=False):\n",
    "    global STEM_CACHE\n",
    "    stemmer = SnowballStemmer(\"english\")\n",
    "    lexemes = []\n",
    "    for line in tqdm(dataset, disable=silent):\n",
    "        if line in STEM_CACHE:\n",
    "            lex = STEM_CACHE[line]\n",
    "        else:\n",
    "            lex = [stemmer.stem(word) \n",
    "                    for word\n",
    "                    in tokenize.word_tokenize(line.lower())\n",
    "                    if word not in (',', '.', ':', '-', ';', '?', '!', '\"', \"``\", \"`\", \"''\", \"'\")\n",
    "                ]\n",
    "            STEM_CACHE[line] = lex\n",
    "        lexemes.append(lex)\n",
    "    return lexemes"
   ]
  },
  {
   "cell_type": "code",
   "execution_count": 15,
   "id": "7658625e-82a5-435d-ba2d-f381bca65a8c",
   "metadata": {},
   "outputs": [
    {
     "name": "stderr",
     "output_type": "stream",
     "text": [
      "100%|████████████████████████████████████████████████████████████████████████| 216931/216931 [01:24<00:00, 2558.97it/s]\n",
      "100%|█████████████████████████████████████████████████████████████████████| 433862/433862 [00:00<00:00, 1115133.92it/s]\n",
      "100%|███████████████████████████████████████████████████████████████████| 1084655/1084655 [00:00<00:00, 1129346.86it/s]\n"
     ]
    }
   ],
   "source": [
    "lex_datasets = []\n",
    "for dataset in datasets:\n",
    "    lex_datasets.append(to_stems(dataset))"
   ]
  },
  {
   "cell_type": "markdown",
   "id": "f666a351-8a15-458b-a0e9-045c76e52a76",
   "metadata": {},
   "source": [
    "Let's check what is stem representation for the string"
   ]
  },
  {
   "cell_type": "code",
   "execution_count": 20,
   "id": "802ea83f-6010-49b5-8fce-2be5e768f2b4",
   "metadata": {},
   "outputs": [
    {
     "name": "stdout",
     "output_type": "stream",
     "text": [
      "Was:\t Of the 6 noble gases on the periodic table, it is the lightest\n",
      "Is:\t ['of', 'the', '6', 'nobl', 'gase', 'on', 'the', 'period', 'tabl', 'it', 'is', 'the', 'lightest']\n"
     ]
    }
   ],
   "source": [
    "print(\"Was:\\t\", datasets[0][105])\n",
    "print(\"Is:\\t\", lex_datasets[0][105])"
   ]
  },
  {
   "cell_type": "markdown",
   "id": "f1d1232f-c294-4971-bdab-a37d73a72d4f",
   "metadata": {},
   "source": [
    "Inverted index uses **stems** as _keys_ and **document numbers** (lists of documents which contain this stem) as _values_."
   ]
  },
  {
   "cell_type": "code",
   "execution_count": 21,
   "id": "6be693f1-303b-47f7-a0e3-79d7f0307e54",
   "metadata": {},
   "outputs": [],
   "source": [
    "def construct_lookup(lexemes, silent=False):\n",
    "    result = dict()\n",
    "    # for each text representation\n",
    "    for i, lx in enumerate(tqdm(lexemes, disable=silent)):\n",
    "        # for each lexeme in text\n",
    "        for lexeme in lx:\n",
    "            # if first met\n",
    "            if lexeme not in result: result[lexeme] = set()\n",
    "            # add text index to posting list\n",
    "            result[lexeme].add(i)\n",
    "    return result"
   ]
  },
  {
   "cell_type": "code",
   "execution_count": 22,
   "id": "274563a2-d176-4e57-bc35-96ffb4431371",
   "metadata": {},
   "outputs": [
    {
     "name": "stderr",
     "output_type": "stream",
     "text": [
      "100%|██████████████████████████████████████████████████████████████████████| 216931/216931 [00:01<00:00, 115625.70it/s]\n",
      "100%|██████████████████████████████████████████████████████████████████████| 433862/433862 [00:03<00:00, 114022.82it/s]\n",
      "100%|████████████████████████████████████████████████████████████████████| 1084655/1084655 [00:08<00:00, 125734.71it/s]\n"
     ]
    }
   ],
   "source": [
    "ivfs = []\n",
    "for lexemes in lex_datasets:\n",
    "    ivfs.append(construct_lookup(lexemes))"
   ]
  },
  {
   "cell_type": "markdown",
   "id": "00b8b190-4989-4a91-aeb3-a95328cdacf3",
   "metadata": {},
   "source": [
    "_TODO:_\n",
    "Complete the search procedure. We iterate through the stems of the query and keep only those documents, which are present in all of them. In other words, we seek for intersection of all posting lists, corresponding to the query stems."
   ]
  },
  {
   "cell_type": "code",
   "execution_count": 32,
   "id": "d7595480-da5d-4d51-86b5-6e7d4cb395d4",
   "metadata": {},
   "outputs": [],
   "source": [
    "def ivf_search(index, query):\n",
    "    res = None\n",
    "    stems = set(to_stems([query], silent=True)[0])\n",
    "    for stem in stems:\n",
    "        if stem not in index:\n",
    "            continue\n",
    "        if res is None: res = index[stem]\n",
    "        else: res = index[stem] & res\n",
    "    return list(res)"
   ]
  },
  {
   "cell_type": "code",
   "execution_count": 25,
   "id": "c8afd71f-c8b2-4edc-b4a5-0de7e7b9a086",
   "metadata": {},
   "outputs": [
    {
     "name": "stdout",
     "output_type": "stream",
     "text": [
      "The African country of Burkina Faso was once known as \"Upper\" this\n"
     ]
    }
   ],
   "source": [
    "r = ivf_search(ivfs[0], query)\n",
    "print(datasets[0][r[0]])"
   ]
  },
  {
   "cell_type": "markdown",
   "id": "9f35873c-75b5-4c9b-aed6-31c595abb2f3",
   "metadata": {},
   "source": [
    "Let's check if it works ok."
   ]
  },
  {
   "cell_type": "code",
   "execution_count": 27,
   "id": "0d7d492c-773b-4987-b013-f2fe199cc44b",
   "metadata": {},
   "outputs": [
    {
     "data": {
      "image/png": "[encoded data removed]",
      "text/plain": [
       "<Figure size 432x288 with 1 Axes>"
      ]
     },
     "metadata": {
      "needs_background": "light"
     },
     "output_type": "display_data"
    }
   ],
   "source": [
    "ivf_timings = []\n",
    "ivf_results = []\n",
    "for ivf in ivfs:\n",
    "    start = time()\n",
    "    res = ivf_search(ivf, query)\n",
    "    stop = time()\n",
    "    ivf_timings.append(stop - start)\n",
    "    ivf_results.append(res)\n",
    "    \n",
    "plt.plot(dataset_sizes, naive_timings, label=\"naive\")\n",
    "plt.plot(dataset_sizes, ivf_timings, label=\"ivf\")\n",
    "plt.xlabel(\"dataset size, lines\")\n",
    "plt.ylabel(\"search time, s\")\n",
    "plt.legend()\n",
    "plt.xscale('log')\n",
    "plt.yscale('log')\n",
    "plt.show()"
   ]
  },
  {
   "cell_type": "code",
   "execution_count": 40,
   "id": "4127304c-aace-4f92-9ad3-95495ca514fa",
   "metadata": {},
   "outputs": [
    {
     "data": {
      "image/png": "[encoded data removed]",
      "text/plain": [
       "<Figure size 432x288 with 1 Axes>"
      ]
     },
     "metadata": {
      "needs_background": "light"
     },
     "output_type": "display_data"
    },
    {
     "data": {
      "image/png": "[encoded data removed]",
      "text/plain": [
       "<Figure size 432x288 with 1 Axes>"
      ]
     },
     "metadata": {
      "needs_background": "light"
     },
     "output_type": "display_data"
    },
    {
     "data": {
      "image/png": "[encoded data removed]",
      "text/plain": [
       "<Figure size 432x288 with 1 Axes>"
      ]
     },
     "metadata": {
      "needs_background": "light"
     },
     "output_type": "display_data"
    }
   ],
   "source": [
    "plot_precision(naive_results, ivf_results, c=1)\n",
    "plot_precision(naive_results, ivf_results, c=1.1)\n",
    "plot_precision(naive_results, ivf_results, c=2)"
   ]
  },
  {
   "cell_type": "markdown",
   "id": "27aa71cc-d0f4-4a5d-8800-d9950ce8b88a",
   "metadata": {},
   "source": [
    "*TODO:* How can you explain non-perfect results for smaller `c`?"
   ]
  },
  {
   "cell_type": "markdown",
   "id": "7cb2d205-a93e-427d-8234-12cad673d97f",
   "metadata": {},
   "source": [
    "## Vector representations\n",
    "\n",
    "_TODO:_ Download https://sprotasov.ru/files/rapid/vector_cache.pkl if you don't want to run embedding process yourself (~10 min)."
   ]
  },
  {
   "cell_type": "code",
   "execution_count": 41,
   "id": "6c143d4c-ec26-4933-ae14-97133de463ba",
   "metadata": {},
   "outputs": [],
   "source": [
    "!pip install spacy\n",
    "!python -m spacy download en_core_web_md\n",
    "!pip install pickle\n",
    "\n",
    "from IPython.display import clear_output\n",
    "clear_output()"
   ]
  },
  {
   "cell_type": "markdown",
   "id": "809be7f3-5af6-4c37-8d8c-9e12a91dfa43",
   "metadata": {},
   "source": [
    "Load embedding model and initialize the cache."
   ]
  },
  {
   "cell_type": "code",
   "execution_count": 42,
   "id": "ec41d7d6-429f-4d78-bb2a-d2fda2cde97a",
   "metadata": {},
   "outputs": [],
   "source": [
    "import spacy\n",
    "import os\n",
    "import pickle\n",
    "spacy_model = spacy.load('en_core_web_md')\n",
    "\n",
    "VEC_CACHE = dict() "
   ]
  },
  {
   "cell_type": "markdown",
   "id": "a03599bd-1940-4d98-8428-66ab58ad254d",
   "metadata": {},
   "source": [
    "Either load vectors from the file, or generate them with the model."
   ]
  },
  {
   "cell_type": "code",
   "execution_count": 43,
   "id": "8839dff7-3841-43de-a61d-c6ac794ff8b0",
   "metadata": {},
   "outputs": [],
   "source": [
    "if not os.path.exists('vector_cache.pkl'):\n",
    "    VEC_CACHE = dict() \n",
    "else:\n",
    "    with open('vector_cache.pkl', 'rb') as f:\n",
    "        VEC_CACHE = pickle.load(f)\n",
    "\n",
    "\n",
    "def to_vectors(dataset, silent=False):\n",
    "    global VEC_CACHE\n",
    "    vectors = []\n",
    "    for line in tqdm(dataset, disable=silent):\n",
    "        if line in VEC_CACHE:\n",
    "            v = VEC_CACHE[line]\n",
    "        else:\n",
    "            v = spacy_model(line).vector\n",
    "            VEC_CACHE[line] = v\n",
    "        vectors.append(v)\n",
    "    return vectors"
   ]
  },
  {
   "cell_type": "markdown",
   "id": "295e6621-d07e-49a0-9bee-e223ddbe6b06",
   "metadata": {},
   "source": [
    "Prepare embedding lists for all dataset sizes."
   ]
  },
  {
   "cell_type": "code",
   "execution_count": 44,
   "id": "f536d03b-6cd3-4764-b18d-6720d716f2ae",
   "metadata": {},
   "outputs": [
    {
     "name": "stderr",
     "output_type": "stream",
     "text": [
      "100%|█████████████████████████████████████████████████████████████████████| 216931/216931 [00:00<00:00, 1201365.47it/s]\n",
      "100%|█████████████████████████████████████████████████████████████████████| 433862/433862 [00:00<00:00, 1394325.17it/s]\n",
      "100%|███████████████████████████████████████████████████████████████████| 1084655/1084655 [00:00<00:00, 1421721.65it/s]\n"
     ]
    }
   ],
   "source": [
    "vec_datasets = []\n",
    "for dataset in datasets:\n",
    "    vec_datasets.append(to_vectors(dataset))"
   ]
  },
  {
   "cell_type": "markdown",
   "id": "55c46a34-d970-4cc9-bae6-f8903cc5c4e0",
   "metadata": {},
   "source": [
    "## Saving embedding\n",
    "Embedding of the dataset can take ~30 minutes. Thus you can simplr load CACHE from the file."
   ]
  },
  {
   "cell_type": "code",
   "execution_count": 45,
   "id": "bcf3d382-0e33-4f18-be4c-f4ef6ec6378d",
   "metadata": {},
   "outputs": [],
   "source": [
    "import pickle\n",
    "if not os.path.exists('vector_cache.pkl'):\n",
    "    with open(\"vector_cache.pkl\", 'wb') as f:\n",
    "        pickle.dump(VEC_CACHE, f)"
   ]
  },
  {
   "cell_type": "markdown",
   "id": "6a53af61-2b73-4501-acbf-3254809e56e1",
   "metadata": {},
   "source": [
    "## Annoy Vector Index\n",
    "https://github.com/spotify/annoy. Forest-based vector index.\n",
    "\n",
    "`TODO:` complete `get_annoy_index(...)` function:\n",
    "- write the line which inserts an item to the index\n",
    "- write the line which constructs 100 trees.\n",
    "\n",
    "Follow documentation."
   ]
  },
  {
   "cell_type": "code",
   "execution_count": 46,
   "id": "a8fc2bf8-4121-4d04-a617-163ed6b54972",
   "metadata": {},
   "outputs": [],
   "source": [
    "!pip install annoy\n",
    "\n",
    "from IPython.display import clear_output\n",
    "clear_output()"
   ]
  },
  {
   "cell_type": "code",
   "execution_count": 48,
   "id": "d46fcfde-4e2c-4999-9ab0-8d4e02fd4be3",
   "metadata": {},
   "outputs": [],
   "source": [
    "from annoy import AnnoyIndex\n",
    "\n",
    "def get_annoy_index(vec_dataset, silent=False):\n",
    "    # build an index with 300-dimensional vectors and use angular (cosine) distance\n",
    "    idx = AnnoyIndex(300, 'angular')\n",
    "    for i, vec in enumerate(tqdm(vec_dataset, disable=silent)):\n",
    "        # insert (number, vector)\n",
    "        idx.add_item(i, vec)\n",
    "    # composing a forest of 100 trees\n",
    "    idx.build(100)\n",
    "    return idx"
   ]
  },
  {
   "cell_type": "code",
   "execution_count": 49,
   "id": "a2d7ee4b-fddf-4fd5-add5-d0c21b7c713c",
   "metadata": {},
   "outputs": [
    {
     "name": "stderr",
     "output_type": "stream",
     "text": [
      "100%|███████████████████████████████████████████████████████████████████████| 216931/216931 [00:06<00:00, 32803.40it/s]\n"
     ]
    },
    {
     "name": "stdout",
     "output_type": "stream",
     "text": [
      "Index construction time: 80.870 sec\n"
     ]
    },
    {
     "name": "stderr",
     "output_type": "stream",
     "text": [
      "100%|███████████████████████████████████████████████████████████████████████| 433862/433862 [00:14<00:00, 30315.76it/s]\n"
     ]
    },
    {
     "name": "stdout",
     "output_type": "stream",
     "text": [
      "Index construction time: 178.722 sec\n"
     ]
    }
   ],
   "source": [
    "annoys = []\n",
    "\n",
    "# avoid constructing the last one, this may take ~5 min.\n",
    "for vd in vec_datasets[:-1]:\n",
    "    start = time()\n",
    "    annoys.append(get_annoy_index(vd))\n",
    "    stop = time()\n",
    "    print(f\"Index construction time: {stop - start:.3f} sec\")"
   ]
  },
  {
   "cell_type": "markdown",
   "id": "4a2cc6f1-e8fd-4f91-a1a5-91e6029bd0c5",
   "metadata": {},
   "source": [
    "Approximate Nearest Neighbour Search always require some overhead in retrieved elements."
   ]
  },
  {
   "cell_type": "code",
   "execution_count": 64,
   "id": "60afe86a-59be-4b84-9e76-763f2223d9c0",
   "metadata": {},
   "outputs": [],
   "source": [
    "def annoy_search(ann, query):\n",
    "    vec = to_vectors([query], silent=True)[0]\n",
    "    # 300 is just a number bigger than we need :)\n",
    "    res = ann.get_nns_by_vector(vec, 300)\n",
    "    return res"
   ]
  },
  {
   "cell_type": "code",
   "execution_count": 66,
   "id": "27e51153-efd6-4b97-9f2e-6c5d5a236f16",
   "metadata": {},
   "outputs": [
    {
     "data": {
      "image/png": "[encoded data removed]",
      "text/plain": [
       "<Figure size 432x288 with 1 Axes>"
      ]
     },
     "metadata": {
      "needs_background": "light"
     },
     "output_type": "display_data"
    }
   ],
   "source": [
    "annoy_times = []\n",
    "annoy_results = []\n",
    "for ann in annoys:\n",
    "    start = time()\n",
    "    res = annoy_search(ann, query)\n",
    "    stop = time()\n",
    "    annoy_times.append(stop - start)\n",
    "    annoy_results.append(res)\n",
    "    \n",
    "plt.plot(dataset_sizes[:-1], annoy_times, \"g*\", label=\"annoy\")\n",
    "plt.plot(dataset_sizes, ivf_timings, \"b+\", label=\"ivf\")\n",
    "plt.xlabel(\"dataset size, lines\")\n",
    "plt.ylabel(\"search time, s\")\n",
    "plt.legend()\n",
    "plt.xscale('log')\n",
    "plt.yscale('log')\n",
    "plt.show()"
   ]
  },
  {
   "cell_type": "code",
   "execution_count": 67,
   "id": "5b69f23a-017d-49de-93bc-3b5a968c316c",
   "metadata": {},
   "outputs": [
    {
     "data": {
      "image/png": "[encoded data removed]",
      "text/plain": [
       "<Figure size 432x288 with 1 Axes>"
      ]
     },
     "metadata": {
      "needs_background": "light"
     },
     "output_type": "display_data"
    },
    {
     "data": {
      "image/png": "[encoded data removed]",
      "text/plain": [
       "<Figure size 432x288 with 1 Axes>"
      ]
     },
     "metadata": {
      "needs_background": "light"
     },
     "output_type": "display_data"
    },
    {
     "data": {
      "image/png": "[encoded data removed]",
      "text/plain": [
       "<Figure size 432x288 with 1 Axes>"
      ]
     },
     "metadata": {
      "needs_background": "light"
     },
     "output_type": "display_data"
    }
   ],
   "source": [
    "plot_precision(naive_results[:-1], annoy_results)\n",
    "plot_precision(naive_results[:-1], annoy_results)\n",
    "plot_precision(naive_results[:-1], annoy_results, c=3)"
   ]
  },
  {
   "cell_type": "markdown",
   "id": "d7c192d1-6980-4d5b-920c-aa7d7320ff46",
   "metadata": {},
   "source": [
    "# HNSW\n",
    "https://github.com/nmslib/hnswlib. Graph-based library."
   ]
  },
  {
   "cell_type": "code",
   "execution_count": null,
   "id": "5e333b91-80f3-41f9-b3e0-3586379f7b10",
   "metadata": {},
   "outputs": [],
   "source": [
    "!pip install hnswlib"
   ]
  },
  {
   "cell_type": "code",
   "execution_count": 68,
   "id": "01dd5952-57c9-430a-b06a-ce2c28e65174",
   "metadata": {},
   "outputs": [],
   "source": [
    "import hnswlib\n",
    "\n",
    "def get_hnsw_index(vec_dataset):\n",
    "    p = hnswlib.Index(space = 'cosine', dim=300)\n",
    "    p.init_index(max_elements=len(vec_dataset))\n",
    "    p.add_items(vec_dataset, list(range(len(vec_dataset))))\n",
    "    return p"
   ]
  },
  {
   "cell_type": "code",
   "execution_count": 69,
   "id": "0ca395b0-a99f-4251-be7a-d14ccc97c072",
   "metadata": {},
   "outputs": [
    {
     "name": "stdout",
     "output_type": "stream",
     "text": [
      "Index construction time: 151.282 sec\n"
     ]
    }
   ],
   "source": [
    "hnsws = []\n",
    "\n",
    "# avoid constructing all except the first first.\n",
    "for vd in vec_datasets[:1]:\n",
    "    start = time()\n",
    "    hnsws.append(get_hnsw_index(vd))\n",
    "    stop = time()\n",
    "    print(f\"Index construction time: {stop - start:.3f} sec\")"
   ]
  },
  {
   "cell_type": "code",
   "execution_count": 70,
   "id": "d9a5be7e-840f-4693-9003-288227429fc1",
   "metadata": {},
   "outputs": [],
   "source": [
    "def hnsw_search(ann, query):\n",
    "    labels, distances = ann.knn_query(to_vectors([query], silent=True)[0], k=400)\n",
    "    return list(labels.flatten())"
   ]
  },
  {
   "cell_type": "code",
   "execution_count": 71,
   "id": "23ac0047-9ff2-4ce3-9671-259e6ea738de",
   "metadata": {},
   "outputs": [
    {
     "data": {
      "image/png": "[encoded data removed]",
      "text/plain": [
       "<Figure size 432x288 with 1 Axes>"
      ]
     },
     "metadata": {
      "needs_background": "light"
     },
     "output_type": "display_data"
    }
   ],
   "source": [
    "hnsw_times = []\n",
    "hnsw_results = []\n",
    "for ann in hnsws:\n",
    "    start = time()\n",
    "    res = hnsw_search(ann, query)\n",
    "    stop = time()\n",
    "    hnsw_times.append(stop - start)\n",
    "    hnsw_results.append(res)\n",
    "    \n",
    "plt.plot(dataset_sizes[:-1], annoy_times, \"bx\", label=\"annoy\")\n",
    "plt.plot(dataset_sizes[:1], hnsw_times, \"ro\", label=\"hnsw\")\n",
    "plt.plot(dataset_sizes, ivf_timings, \"g^\", label=\"ivf\")\n",
    "\n",
    "plt.xlabel(\"dataset size, lines\")\n",
    "plt.ylabel(\"search time, s\")\n",
    "plt.legend()\n",
    "plt.xscale('log')\n",
    "plt.yscale('log')\n",
    "plt.show()"
   ]
  },
  {
   "cell_type": "code",
   "execution_count": 73,
   "id": "c90b566f-3f62-4679-b021-916df94b47f3",
   "metadata": {},
   "outputs": [
    {
     "data": {
      "image/png": "[encoded data removed]",
      "text/plain": [
       "<Figure size 432x288 with 1 Axes>"
      ]
     },
     "metadata": {
      "needs_background": "light"
     },
     "output_type": "display_data"
    },
    {
     "data": {
      "image/png": "[encoded data removed]",
      "text/plain": [
       "<Figure size 432x288 with 1 Axes>"
      ]
     },
     "metadata": {
      "needs_background": "light"
     },
     "output_type": "display_data"
    },
    {
     "data": {
      "image/png": "[encoded data removed]",
      "text/plain": [
       "<Figure size 432x288 with 1 Axes>"
      ]
     },
     "metadata": {
      "needs_background": "light"
     },
     "output_type": "display_data"
    }
   ],
   "source": [
    "plot_precision(naive_results[:1], hnsw_results, c=1)\n",
    "plot_precision(naive_results[:1], hnsw_results, c=3)\n",
    "plot_precision(naive_results[:1], hnsw_results, c=5)"
   ]
  }
 ],
 "metadata": {
  "kernelspec": {
   "display_name": "Python [conda env:pai]",
   "language": "python",
   "name": "conda-env-pai-py"
  },
  "language_info": {
   "codemirror_mode": {
    "name": "ipython",
    "version": 3
   },
   "file_extension": ".py",
   "mimetype": "text/x-python",
   "name": "python",
   "nbconvert_exporter": "python",
   "pygments_lexer": "ipython3",
   "version": "3.9.6"
  }
 },
 "nbformat": 4,
 "nbformat_minor": 5
}
