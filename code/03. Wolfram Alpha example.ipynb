{
 "cells": [
  {
   "cell_type": "code",
   "execution_count": 1,
   "metadata": {
    "collapsed": true
   },
   "outputs": [],
   "source": [
    "import requests\n",
    "from bs4 import BeautifulSoup\n",
    "\n",
    "# 1. register at https://www.wolframalpha.com/\n",
    "# 2. Get App ID at http://developer.wolframalpha.com/portal/myapps/\n",
    "APP_NAME = \"Easy Solver\"\n",
    "APPID = open(\"wa.app.id\").read()\n",
    "API = \"http://api.wolframalpha.com/v2/query?input={}&appid={}\""
   ]
  },
  {
   "cell_type": "code",
   "execution_count": 2,
   "metadata": {
    "collapsed": true
   },
   "outputs": [],
   "source": [
    "def ask(query):\n",
    "    print(\"Asking:\", query)\n",
    "    resp = requests.get(API.format(query, APPID))\n",
    "    if resp.status_code != 200:\n",
    "        return None\n",
    "    dom = BeautifulSoup(resp.text, \"lxml\")\n",
    "    result = dom.queryresult.findAll(\"pod\", id=\"Solution\")\n",
    "    if not result:\n",
    "        result = dom.queryresult.findAll(\"pod\", id=\"Result\")\n",
    "    if not result:\n",
    "        result = dom.queryresult.findAll(\"pod\", id=\"ChemicalNamesFormulas:ChemicalData\")\n",
    "        \n",
    "    subpods = result[0].findAll(\"subpod\")\n",
    "    return list(pod.plaintext.string for pod in subpods)"
   ]
  },
  {
   "cell_type": "code",
   "execution_count": 3,
   "metadata": {},
   "outputs": [
    {
     "name": "stdout",
     "output_type": "stream",
     "text": [
      "Asking: x^2=2\n",
      "x = -sqrt(2); x = sqrt(2)\n",
      "=====================\n",
      "Asking: Woodstock people\n",
      "Adolfo de la Parra | Alan Cooper | Alan Wilson | Alvin Lee | Arlo Guthrie | Barry Melton | Bert Sommer | Bill Kreutzmann | Bob Hite | Bob Weir | Bruce Clarke | Carlos Santana | Chick Churchill | Cynthia Robinson | David Crosby | Donald York | Doug Clifford | Doug Metzler | Edgar Winter | Felix Pappalardi | ... (total: 89)\n",
      "=====================\n",
      "Asking: maltodextrin chemistry\n",
      "formula | C_6H_12O_6\n",
      "name | maltodextrin\n",
      "IUPAC name | (2R, 3S, 4R, 5R)-2, 3, 4, 5, 6-pentahydroxyhexanal\n"
     ]
    }
   ],
   "source": [
    "response = ask(\"x^2=2\")\n",
    "print(*response, sep=\"; \")\n",
    "print(\"=====================\")\n",
    "response = ask(\"Woodstock people\")\n",
    "print(*response, sep=\"; \")\n",
    "print(\"=====================\")\n",
    "response = ask(\"maltodextrin chemistry\")\n",
    "print(*response, sep=\"; \")"
   ]
  },
  {
   "cell_type": "markdown",
   "metadata": {},
   "source": [
    "## Compute definite integral\n",
    "\n",
    "using Wolpfram|Alpha\n",
    "\n",
    "$$\\int _{0}^{1}{\\sqrt {x}}\\,dx$$"
   ]
  },
  {
   "cell_type": "code",
   "execution_count": 4,
   "metadata": {},
   "outputs": [],
   "source": [
    "#TODO your code here"
   ]
  }
 ],
 "metadata": {
  "kernelspec": {
   "display_name": "Python 3",
   "language": "python",
   "name": "python3"
  },
  "language_info": {
   "codemirror_mode": {
    "name": "ipython",
    "version": 3
   },
   "file_extension": ".py",
   "mimetype": "text/x-python",
   "name": "python",
   "nbconvert_exporter": "python",
   "pygments_lexer": "ipython3",
   "version": "3.7.0"
  }
 },
 "nbformat": 4,
 "nbformat_minor": 2
}
