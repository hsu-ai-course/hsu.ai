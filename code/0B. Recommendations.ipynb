{
 "cells": [
  {
   "cell_type": "markdown",
   "id": "c10b7706-16f2-41c3-bfe3-27b86d1e2444",
   "metadata": {},
   "source": [
    "# Collect the data\n",
    "\n",
    "Fill this [form](https://forms.gle/jc7c5arhkeHXhuFu7) to collect the data. Provide your id and answer the questions about your food preferences.\n",
    "\n",
    "# Download the data\n",
    "\n",
    "After everyone fills the form, download the data"
   ]
  },
  {
   "cell_type": "code",
   "execution_count": 1,
   "id": "a9ee7f49-e79d-4780-9454-aa4a86338741",
   "metadata": {},
   "outputs": [],
   "source": [
    "googleSheetId = '1Tvdbm1_HzrvBY_veX0mCZkab9I8OD85IcijNlZB7hRI'\n",
    "workSheetName = 'Form+responses+1'\n",
    "URL = 'https://docs.google.com/spreadsheets/d/{0}/gviz/tq?tqx=out:csv&sheet={1}'.format(\n",
    "    googleSheetId,\n",
    "    workSheetName\n",
    ")"
   ]
  },
  {
   "cell_type": "code",
   "execution_count": 2,
   "id": "20c79535-20dc-4e4b-bbf7-e623222b3019",
   "metadata": {},
   "outputs": [
    {
     "data": {
      "text/html": [
       "<div>\n",
       "<style scoped>\n",
       "    .dataframe tbody tr th:only-of-type {\n",
       "        vertical-align: middle;\n",
       "    }\n",
       "\n",
       "    .dataframe tbody tr th {\n",
       "        vertical-align: top;\n",
       "    }\n",
       "\n",
       "    .dataframe thead th {\n",
       "        text-align: right;\n",
       "    }\n",
       "</style>\n",
       "<table border=\"1\" class=\"dataframe\">\n",
       "  <thead>\n",
       "    <tr style=\"text-align: right;\">\n",
       "      <th></th>\n",
       "      <th>Timestamp</th>\n",
       "      <th>Your ID (name/nickname)</th>\n",
       "      <th>Food vs Estimations [Salty caramel]</th>\n",
       "      <th>Food vs Estimations [Sweet pudding]</th>\n",
       "      <th>Food vs Estimations [Milk chocolate]</th>\n",
       "      <th>Food vs Estimations [Dark chocolate]</th>\n",
       "      <th>Food vs Estimations [Donuts]</th>\n",
       "      <th>Food vs Estimations [Baklava]</th>\n",
       "      <th>Food vs Estimations [Fresh cucumber]</th>\n",
       "      <th>Food vs Estimations [Pickles]</th>\n",
       "      <th>...</th>\n",
       "      <th>Food vs Estimations [Bass (fish)]</th>\n",
       "      <th>Food vs Estimations [Turkey]</th>\n",
       "      <th>Food vs Estimations [Salmon]</th>\n",
       "      <th>Food vs Estimations [Bananas]</th>\n",
       "      <th>Food vs Estimations [Dates]</th>\n",
       "      <th>Food vs Estimations [Pears]</th>\n",
       "      <th>Food vs Estimations [Melon]</th>\n",
       "      <th>Food vs Estimations [Oranges]</th>\n",
       "      <th>Food vs Estimations [Watermelon]</th>\n",
       "      <th>Food vs Estimations [Celery]</th>\n",
       "    </tr>\n",
       "  </thead>\n",
       "  <tbody>\n",
       "    <tr>\n",
       "      <th>0</th>\n",
       "      <td>27/09/2021 14:13:23</td>\n",
       "      <td>Daddy Stasik</td>\n",
       "      <td>Neutral/Never tried</td>\n",
       "      <td>Neutral/Never tried</td>\n",
       "      <td>Neutral/Never tried</td>\n",
       "      <td>Like</td>\n",
       "      <td>Dislike</td>\n",
       "      <td>Neutral/Never tried</td>\n",
       "      <td>Neutral/Never tried</td>\n",
       "      <td>Like</td>\n",
       "      <td>...</td>\n",
       "      <td>Dislike</td>\n",
       "      <td>Like</td>\n",
       "      <td>Like</td>\n",
       "      <td>Like</td>\n",
       "      <td>Like</td>\n",
       "      <td>Like</td>\n",
       "      <td>Like</td>\n",
       "      <td>Neutral/Never tried</td>\n",
       "      <td>Neutral/Never tried</td>\n",
       "      <td>Dislike</td>\n",
       "    </tr>\n",
       "    <tr>\n",
       "      <th>1</th>\n",
       "      <td>27/09/2021 14:16:07</td>\n",
       "      <td>@startupfairy</td>\n",
       "      <td>Like</td>\n",
       "      <td>Like</td>\n",
       "      <td>Like</td>\n",
       "      <td>Dislike</td>\n",
       "      <td>Neutral/Never tried</td>\n",
       "      <td>Like</td>\n",
       "      <td>Neutral/Never tried</td>\n",
       "      <td>Like</td>\n",
       "      <td>...</td>\n",
       "      <td>Like</td>\n",
       "      <td>Like</td>\n",
       "      <td>Like</td>\n",
       "      <td>Like</td>\n",
       "      <td>Like</td>\n",
       "      <td>Like</td>\n",
       "      <td>Neutral/Never tried</td>\n",
       "      <td>Like</td>\n",
       "      <td>Like</td>\n",
       "      <td>Like</td>\n",
       "    </tr>\n",
       "    <tr>\n",
       "      <th>2</th>\n",
       "      <td>27/09/2021 14:19:38</td>\n",
       "      <td>TotallyNotGaponov</td>\n",
       "      <td>Like</td>\n",
       "      <td>Like</td>\n",
       "      <td>Like</td>\n",
       "      <td>Neutral/Never tried</td>\n",
       "      <td>Like</td>\n",
       "      <td>Like</td>\n",
       "      <td>Like</td>\n",
       "      <td>Like</td>\n",
       "      <td>...</td>\n",
       "      <td>Like</td>\n",
       "      <td>Like</td>\n",
       "      <td>Like</td>\n",
       "      <td>Like</td>\n",
       "      <td>Like</td>\n",
       "      <td>Like</td>\n",
       "      <td>Like</td>\n",
       "      <td>Like</td>\n",
       "      <td>Like</td>\n",
       "      <td>Dislike</td>\n",
       "    </tr>\n",
       "    <tr>\n",
       "      <th>3</th>\n",
       "      <td>27/09/2021 14:20:05</td>\n",
       "      <td>Stas Litvinov</td>\n",
       "      <td>Like</td>\n",
       "      <td>Neutral/Never tried</td>\n",
       "      <td>Neutral/Never tried</td>\n",
       "      <td>Like</td>\n",
       "      <td>Like</td>\n",
       "      <td>Like</td>\n",
       "      <td>Like</td>\n",
       "      <td>Like</td>\n",
       "      <td>...</td>\n",
       "      <td>Like</td>\n",
       "      <td>Like</td>\n",
       "      <td>Like</td>\n",
       "      <td>Like</td>\n",
       "      <td>Neutral/Never tried</td>\n",
       "      <td>Like</td>\n",
       "      <td>Like</td>\n",
       "      <td>Neutral/Never tried</td>\n",
       "      <td>Like</td>\n",
       "      <td>Like</td>\n",
       "    </tr>\n",
       "    <tr>\n",
       "      <th>4</th>\n",
       "      <td>27/09/2021 14:24:35</td>\n",
       "      <td>Bad Boy</td>\n",
       "      <td>Like</td>\n",
       "      <td>Like</td>\n",
       "      <td>Like</td>\n",
       "      <td>Dislike</td>\n",
       "      <td>Like</td>\n",
       "      <td>Dislike</td>\n",
       "      <td>Like</td>\n",
       "      <td>Dislike</td>\n",
       "      <td>...</td>\n",
       "      <td>Like</td>\n",
       "      <td>Like</td>\n",
       "      <td>Like</td>\n",
       "      <td>Dislike</td>\n",
       "      <td>Dislike</td>\n",
       "      <td>Dislike</td>\n",
       "      <td>Neutral/Never tried</td>\n",
       "      <td>Like</td>\n",
       "      <td>Like</td>\n",
       "      <td>Like</td>\n",
       "    </tr>\n",
       "  </tbody>\n",
       "</table>\n",
       "<p>5 rows × 25 columns</p>\n",
       "</div>"
      ],
      "text/plain": [
       "             Timestamp Your ID (name/nickname)  \\\n",
       "0  27/09/2021 14:13:23            Daddy Stasik   \n",
       "1  27/09/2021 14:16:07           @startupfairy   \n",
       "2  27/09/2021 14:19:38       TotallyNotGaponov   \n",
       "3  27/09/2021 14:20:05           Stas Litvinov   \n",
       "4  27/09/2021 14:24:35                 Bad Boy   \n",
       "\n",
       "  Food vs Estimations [Salty caramel] Food vs Estimations [Sweet pudding]  \\\n",
       "0                 Neutral/Never tried                 Neutral/Never tried   \n",
       "1                                Like                                Like   \n",
       "2                                Like                                Like   \n",
       "3                                Like                 Neutral/Never tried   \n",
       "4                                Like                                Like   \n",
       "\n",
       "  Food vs Estimations [Milk chocolate] Food vs Estimations [Dark chocolate]  \\\n",
       "0                  Neutral/Never tried                                 Like   \n",
       "1                                 Like                              Dislike   \n",
       "2                                 Like                  Neutral/Never tried   \n",
       "3                  Neutral/Never tried                                 Like   \n",
       "4                                 Like                              Dislike   \n",
       "\n",
       "  Food vs Estimations [Donuts] Food vs Estimations [Baklava]  \\\n",
       "0                      Dislike           Neutral/Never tried   \n",
       "1          Neutral/Never tried                          Like   \n",
       "2                         Like                          Like   \n",
       "3                         Like                          Like   \n",
       "4                         Like                       Dislike   \n",
       "\n",
       "  Food vs Estimations [Fresh cucumber] Food vs Estimations [Pickles]  ...  \\\n",
       "0                  Neutral/Never tried                          Like  ...   \n",
       "1                  Neutral/Never tried                          Like  ...   \n",
       "2                                 Like                          Like  ...   \n",
       "3                                 Like                          Like  ...   \n",
       "4                                 Like                       Dislike  ...   \n",
       "\n",
       "  Food vs Estimations [Bass (fish)] Food vs Estimations [Turkey]  \\\n",
       "0                           Dislike                         Like   \n",
       "1                              Like                         Like   \n",
       "2                              Like                         Like   \n",
       "3                              Like                         Like   \n",
       "4                              Like                         Like   \n",
       "\n",
       "  Food vs Estimations [Salmon] Food vs Estimations [Bananas]  \\\n",
       "0                         Like                          Like   \n",
       "1                         Like                          Like   \n",
       "2                         Like                          Like   \n",
       "3                         Like                          Like   \n",
       "4                         Like                       Dislike   \n",
       "\n",
       "  Food vs Estimations [Dates] Food vs Estimations [Pears]  \\\n",
       "0                        Like                        Like   \n",
       "1                        Like                        Like   \n",
       "2                        Like                        Like   \n",
       "3         Neutral/Never tried                        Like   \n",
       "4                     Dislike                     Dislike   \n",
       "\n",
       "  Food vs Estimations [Melon] Food vs Estimations [Oranges]  \\\n",
       "0                        Like           Neutral/Never tried   \n",
       "1         Neutral/Never tried                          Like   \n",
       "2                        Like                          Like   \n",
       "3                        Like           Neutral/Never tried   \n",
       "4         Neutral/Never tried                          Like   \n",
       "\n",
       "  Food vs Estimations [Watermelon] Food vs Estimations [Celery]  \n",
       "0              Neutral/Never tried                      Dislike  \n",
       "1                             Like                         Like  \n",
       "2                             Like                      Dislike  \n",
       "3                             Like                         Like  \n",
       "4                             Like                         Like  \n",
       "\n",
       "[5 rows x 25 columns]"
      ]
     },
     "execution_count": 2,
     "metadata": {},
     "output_type": "execute_result"
    }
   ],
   "source": [
    "import pandas as pd\n",
    "import numpy as np\n",
    "rawdf = pd.read_csv(URL)\n",
    "rawdf"
   ]
  },
  {
   "cell_type": "markdown",
   "id": "792d2c6e-6337-4ff1-9f53-324e2c749d10",
   "metadata": {},
   "source": [
    "# Prepare the data\n",
    "\n",
    "Extract \n",
    "1. array with numbers `M`\n",
    "2. List of participants: `names`\n",
    "3. List of food items `foods` and their short form `foods_short`"
   ]
  },
  {
   "cell_type": "code",
   "execution_count": 3,
   "id": "d94bf8e7-615c-4175-a3a8-a3217ef98b1e",
   "metadata": {},
   "outputs": [],
   "source": [
    "ranks = {\n",
    "    \"Like\": 1., \n",
    "    \"Dislike\": -1., \n",
    "    \"Neutral/Never tried\": 0.0\n",
    "}\n",
    "df = rawdf.applymap(lambda x: ranks[x] if x in ranks else x, na_action='ignore')\n",
    "\n",
    "names = df['Your ID (name/nickname)'].to_numpy()\n",
    "foods = df.columns[2:].to_numpy()\n",
    "foods_short =  [x[20:] for x in foods]\n",
    "M = df[foods].to_numpy()"
   ]
  },
  {
   "cell_type": "code",
   "execution_count": 4,
   "id": "795ab7b2-3341-42de-a50a-67a7ce0e403a",
   "metadata": {},
   "outputs": [
    {
     "data": {
      "text/plain": [
       "[]"
      ]
     },
     "execution_count": 4,
     "metadata": {},
     "output_type": "execute_result"
    },
    {
     "data": {
      "image/png": "[encoded data removed]",
      "text/plain": [
       "<Figure size 432x288 with 1 Axes>"
      ]
     },
     "metadata": {
      "needs_background": "light"
     },
     "output_type": "display_data"
    }
   ],
   "source": [
    "import matplotlib.pyplot as plt\n",
    "\n",
    "ax = plt.gca()\n",
    "plt.yticks(list(range(len(names))))\n",
    "plt.xticks(list(range(len(foods_short))), rotation='vertical')\n",
    "ax.set_yticklabels(names)\n",
    "ax.set_xticklabels(foods_short)\n",
    "plt.imshow(M)\n",
    "plt.plot()"
   ]
  },
  {
   "cell_type": "markdown",
   "id": "66fd39d2-c33b-4f1e-a3de-aef6f5146692",
   "metadata": {},
   "source": [
    "# What is the rank of the matrix?"
   ]
  },
  {
   "cell_type": "code",
   "execution_count": 5,
   "id": "3b90c827-33ac-431f-9709-c6e1ba9996e1",
   "metadata": {},
   "outputs": [
    {
     "name": "stdout",
     "output_type": "stream",
     "text": [
      "Matrix rank is 5. Latent space is not more than 5-dimensional.\n"
     ]
    }
   ],
   "source": [
    "matrix_rank = np.linalg.matrix_rank(M)\n",
    "print(f\"Matrix rank is {matrix_rank}. Latent space is not more than {matrix_rank}-dimensional.\")"
   ]
  },
  {
   "cell_type": "markdown",
   "id": "cf39729e-e29b-4f33-8f26-3c9779e5aa7f",
   "metadata": {},
   "source": [
    "# Let's find low-dimensional decomposition\n",
    "\n",
    "Set the rank which you think can work in your case"
   ]
  },
  {
   "cell_type": "code",
   "execution_count": 6,
   "id": "3e10f884-34e1-4796-a4db-b5e68dc232fe",
   "metadata": {},
   "outputs": [],
   "source": [
    "RANK = 4"
   ]
  },
  {
   "cell_type": "markdown",
   "id": "c6bd894f-7182-4447-be78-bdb29883c1b4",
   "metadata": {},
   "source": [
    "Find SVD decomposition. Remember, SVD preserves distance, while PCA - variance!\n",
    "\n",
    "**WE NEED DISTANCE**"
   ]
  },
  {
   "cell_type": "code",
   "execution_count": 7,
   "id": "a83caa1a-9e66-41b8-a927-2d631cfa8e5a",
   "metadata": {},
   "outputs": [],
   "source": [
    "users_to_latent, s, latent_to_food = np.linalg.svd(M, full_matrices=True)\n",
    "\n",
    "# representation in classic SVD definition NxM diagonal matrix\n",
    "significance = np.zeros((users_to_latent.shape[1], latent_to_food.shape[0]))\n",
    "significance[:min(*significance.shape), :min(*significance.shape)] = np.diag(s)"
   ]
  },
  {
   "cell_type": "code",
   "execution_count": 8,
   "id": "dd938f69-2f15-4786-b9e4-b4d60001dc1b",
   "metadata": {},
   "outputs": [
    {
     "name": "stdout",
     "output_type": "stream",
     "text": [
      "Representation of users in reduced 4-dimensional latent space\n"
     ]
    },
    {
     "data": {
      "image/png": "[encoded data removed]",
      "text/plain": [
       "<Figure size 432x288 with 1 Axes>"
      ]
     },
     "metadata": {
      "needs_background": "light"
     },
     "output_type": "display_data"
    }
   ],
   "source": [
    "U = users_to_latent[:, :RANK] @ significance[:RANK, :RANK]\n",
    "print(f\"Representation of users in reduced {RANK}-dimensional latent space\")\n",
    "# print(U)\n",
    "ax = plt.gca()\n",
    "ax.set_yticks(list(range(len(names))))\n",
    "ax.set_yticklabels(names)\n",
    "plt.imshow(U)\n",
    "plt.show()"
   ]
  },
  {
   "cell_type": "markdown",
   "id": "084209c4-ec45-40ef-a269-8a993ab8a95a",
   "metadata": {},
   "source": [
    "How similar are we to each other?"
   ]
  },
  {
   "cell_type": "code",
   "execution_count": 9,
   "id": "b1bf84e8-e35a-4c3f-b670-f113ef76aa7b",
   "metadata": {},
   "outputs": [
    {
     "data": {
      "image/png": "[encoded data removed]",
      "text/plain": [
       "<Figure size 432x288 with 1 Axes>"
      ]
     },
     "metadata": {
      "needs_background": "light"
     },
     "output_type": "display_data"
    }
   ],
   "source": [
    "from sklearn.metrics.pairwise import cosine_similarity\n",
    "U_similarity = cosine_similarity(U, U)\n",
    "# print(U_similarity)\n",
    "ax = plt.gca()\n",
    "plt.yticks(list(range(len(names))))\n",
    "plt.xticks(list(range(len(names))), rotation='vertical')\n",
    "ax.set_yticklabels(names)\n",
    "ax.set_xticklabels(names)\n",
    "plt.imshow(U_similarity, vmax=1, vmin=-1)\n",
    "plt.show()"
   ]
  },
  {
   "cell_type": "markdown",
   "id": "980773ad-0d91-40c7-a297-e8a4949730dc",
   "metadata": {},
   "source": [
    "# Ok, what about food representations in low-dimensional space?\n",
    "They live on the last matrix, which should be transposed for uniform representation.\n",
    "\n",
    "`.H` stands for Hermitian (transposed + complex conjugate). As our matrix is defined in real numbers this is equivalent to just transpose."
   ]
  },
  {
   "cell_type": "code",
   "execution_count": 10,
   "id": "6145a3e5-3df2-4609-9904-507ec71ccf0e",
   "metadata": {},
   "outputs": [
    {
     "data": {
      "text/plain": [
       "[]"
      ]
     },
     "execution_count": 10,
     "metadata": {},
     "output_type": "execute_result"
    },
    {
     "data": {
      "image/png": "[encoded data removed]",
      "text/plain": [
       "<Figure size 432x288 with 1 Axes>"
      ]
     },
     "metadata": {
      "needs_background": "light"
     },
     "output_type": "display_data"
    }
   ],
   "source": [
    "F = np.matrix(latent_to_food[:RANK, :]).H   # transposed complex conjugate\n",
    "ax = plt.gca()\n",
    "plt.xticks(list(range(RANK)))\n",
    "ax.set_yticks(list(range(len(foods_short))))\n",
    "ax.set_yticklabels(foods_short)\n",
    "plt.imshow(F)\n",
    "plt.plot()"
   ]
  },
  {
   "cell_type": "markdown",
   "id": "dd5cea99-6425-4dd3-a53e-e6c50c62cda2",
   "metadata": {},
   "source": [
    "How similar are foods to each other with respect to human's preferences?"
   ]
  },
  {
   "cell_type": "code",
   "execution_count": 11,
   "id": "bc813f6d-7ab9-4f40-ac44-1484d0c34305",
   "metadata": {
    "tags": []
   },
   "outputs": [
    {
     "data": {
      "image/png": "[encoded data removed]",
      "text/plain": [
       "<Figure size 432x288 with 1 Axes>"
      ]
     },
     "metadata": {
      "needs_background": "light"
     },
     "output_type": "display_data"
    }
   ],
   "source": [
    "F_similarity = cosine_similarity(F, F)\n",
    "ax = plt.gca()\n",
    "plt.yticks(list(range(len(foods_short))))\n",
    "plt.xticks(list(range(len(foods_short))), rotation='vertical')\n",
    "ax.set_yticklabels(foods_short)\n",
    "ax.set_xticklabels(foods_short)\n",
    "plt.imshow(F_similarity, vmax=1, vmin=-1)\n",
    "plt.show()"
   ]
  },
  {
   "cell_type": "markdown",
   "id": "45fad4a8-fa37-4fa0-a537-a9124b11876a",
   "metadata": {},
   "source": [
    "# And here come recommendations!"
   ]
  },
  {
   "cell_type": "code",
   "execution_count": 12,
   "id": "a889010e-ab1a-4502-84b1-02b2278c9281",
   "metadata": {},
   "outputs": [
    {
     "name": "stdout",
     "output_type": "stream",
     "text": [
      "------- RECOMMEND SOME FOODS ------------\n",
      "(0.810749041236954, '[Mushrooms]')\n",
      "(0.6907411717611991, '[Pickles]')\n",
      "(0.6907411717611991, '[Pears]')\n",
      "(0.6907411717611991, '[Bananas]')\n",
      "(0.6307826823858956, '[Dates]')\n",
      "(0.6280436358294791, '[Melon]')\n",
      "(0.4369468677633225, '[Turkey]')\n",
      "(0.4369468677633225, '[Salmon]')\n",
      "(0.40330490352190035, '[Dark chocolate]')\n",
      "(0.32934709352158736, '[Baklava]')\n",
      "(0.07135571619864545, '[Fresh cucumber]')\n",
      "(0.05187027567352159, '[Sweet pudding]')\n",
      "(0.05187027567352156, '[Oranges]')\n",
      "(0.05187027567352137, '[Milk chocolate]')\n",
      "(-0.007260125675872087, '[Beef]')\n",
      "(-0.007260125675872087, '[Chicken]')\n",
      "(-0.007260125675872123, '[Watermelon]')\n",
      "(-0.007260125675872198, '[Salty caramel]')\n",
      "(-0.11963634120804739, '[Beetroot]')\n",
      "(-0.26989337476285175, '[Donuts]')\n",
      "(-0.42611357567376995, '[Bass (fish)]')\n",
      "(-0.6799210883037929, '[Cauliflower]')\n",
      "(-0.6799210883037929, '[Celery]')\n",
      "------- RECOMMEND SOME FRIENDS ----------\n",
      "(1.0000000000000002, 'Daddy Stasik')\n",
      "(0.63109078278679, 'TotallyNotGaponov')\n",
      "(0.2562698001439261, 'Stas Litvinov')\n",
      "(0.11286391375669827, '@startupfairy')\n",
      "(-0.5643755690854083, 'Bad Boy')\n"
     ]
    }
   ],
   "source": [
    "def recommend_to_user_from_database(name, names, U, database, database_labels):\n",
    "    inames = dict((v, k) for k, v in enumerate(names))\n",
    "    idx = inames[name]\n",
    "    \n",
    "    # similarities of a user vector to provided database\n",
    "    sims = cosine_similarity([U[idx, :]], database)\n",
    "    preferences = sims[0, :]\n",
    "    \n",
    "    # indices of a database items id descending order\n",
    "    food_idx = np.argsort(preferences)[::-1]\n",
    "    return [(preferences[n], database_labels[n]) for n in food_idx]\n",
    "\n",
    "print(\"------- RECOMMEND SOME FOODS ------------\")\n",
    "print(*recommend_to_user_from_database(\"Daddy Stasik\", names, U, F, foods_short), sep=\"\\n\")\n",
    "print(\"------- RECOMMEND SOME FRIENDS ----------\")\n",
    "print(*recommend_to_user_from_database(\"Daddy Stasik\", names, U, U, names), sep=\"\\n\")"
   ]
  },
  {
   "cell_type": "markdown",
   "id": "6b3a02f9-bc64-41ec-b9d0-b7199e715643",
   "metadata": {},
   "source": [
    "## TODO \n",
    "Save users and foods into the index structure and rewrite recommendation procedure"
   ]
  },
  {
   "cell_type": "code",
   "execution_count": 13,
   "id": "e52b993f-22de-49e6-83a7-e121553b3365",
   "metadata": {},
   "outputs": [
    {
     "name": "stdout",
     "output_type": "stream",
     "text": [
      "Requirement already satisfied: annoy in c:\\anaconda\\envs\\pai\\lib\\site-packages (1.17.0)\n"
     ]
    }
   ],
   "source": [
    "!pip install annoy"
   ]
  },
  {
   "cell_type": "markdown",
   "id": "84b01792-3132-4830-960c-22e2e97ac047",
   "metadata": {},
   "source": [
    "1. Build a search index. Refer to [documentation example](https://github.com/spotify/annoy#python-code-example)."
   ]
  },
  {
   "cell_type": "code",
   "execution_count": 14,
   "id": "3d8d2724-820d-4d45-ad93-77c522c56cd9",
   "metadata": {},
   "outputs": [],
   "source": [
    "from annoy import AnnoyIndex\n",
    "\n",
    "n_dimensions = RANK\n",
    "n_trees = 10\n",
    "\n",
    "INDEX = AnnoyIndex(n_dimensions, 'angular')\n",
    "\n",
    "# TODO complete the code, use n_trees = 10"
   ]
  },
  {
   "cell_type": "markdown",
   "id": "cb9eece0-d459-4c4e-b0be-9604a8350cbf",
   "metadata": {},
   "source": [
    "2. Search in the index (rewrite search methods). Use `get_nns_by_vector(...)`, [refer to this paragraph](https://github.com/spotify/annoy#full-python-api). Use `n_neighbours = 10`."
   ]
  },
  {
   "cell_type": "code",
   "execution_count": 15,
   "id": "c0a26b0f-9687-492c-a206-aaa88674aaa6",
   "metadata": {},
   "outputs": [],
   "source": [
    "# TODO"
   ]
  }
 ],
 "metadata": {
  "kernelspec": {
   "display_name": "Python [conda env:pai]",
   "language": "python",
   "name": "conda-env-pai-py"
  },
  "language_info": {
   "codemirror_mode": {
    "name": "ipython",
    "version": 3
   },
   "file_extension": ".py",
   "mimetype": "text/x-python",
   "name": "python",
   "nbconvert_exporter": "python",
   "pygments_lexer": "ipython3",
   "version": "3.9.6"
  }
 },
 "nbformat": 4,
 "nbformat_minor": 5
}
