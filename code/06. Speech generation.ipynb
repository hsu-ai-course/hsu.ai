{
 "cells": [
  {
   "cell_type": "code",
   "execution_count": null,
   "metadata": {},
   "outputs": [],
   "source": [
    "!pip install pyttsx3"
   ]
  },
  {
   "cell_type": "code",
   "execution_count": 2,
   "metadata": {},
   "outputs": [
    {
     "name": "stdout",
     "output_type": "stream",
     "text": [
      "HKEY_LOCAL_MACHINE\\SOFTWARE\\Microsoft\\Speech\\Voices\\Tokens\\TTS_MS_RU-RU_IRINA_11.0\n",
      "HKEY_LOCAL_MACHINE\\SOFTWARE\\Microsoft\\Speech\\Voices\\Tokens\\TTS_MS_EN-US_ZIRA_11.0\n"
     ]
    }
   ],
   "source": [
    "import pyttsx3\n",
    "\n",
    "engine = pyttsx3.init()\n",
    "voices = engine.getProperty('voices')\n",
    "for voice in voices:\n",
    "    print(voice.id)\n",
    "    engine.setProperty('voice', voice.id)\n",
    "    engine.say('The quick brown fox jumped over the lazy dog.')\n",
    "    engine.say('Я у мамы инженер')\n",
    "\n",
    "engine.save_to_file('Hello World' , 'test.mp3')\n",
    "engine.runAndWait()"
   ]
  },
  {
   "cell_type": "code",
   "execution_count": 3,
   "metadata": {},
   "outputs": [],
   "source": [
    "import pyaudio\n",
    "import wave\n",
    "import sys\n",
    "\n",
    "CHUNK = 1024\n",
    "\n",
    "def play_stream(wave_stream, player):\n",
    "    '''Takes a `wave.Wave_read` stream and plays'''\n",
    "    global CHUNK\n",
    "    print(\"Playing...\", end=\"\")\n",
    "    out_stream = player.open(\n",
    "                    output=True,\n",
    "                    format=player.get_format_from_width(wave_stream.getsampwidth()),\n",
    "                    channels=wave_stream.getnchannels(),\n",
    "                    rate=wave_stream.getframerate()\n",
    "    )\n",
    "    data = wave_stream.readframes(CHUNK)\n",
    "    while data:\n",
    "        out_stream.write(data)\n",
    "        data = wave_stream.readframes(CHUNK)\n",
    "    out_stream.stop_stream()\n",
    "    out_stream.close()\n",
    "    print(\"played\")"
   ]
  },
  {
   "cell_type": "code",
   "execution_count": 4,
   "metadata": {},
   "outputs": [],
   "source": [
    "# after you setup credentials, they will be here: https://console.cloud.google.com/apis/credentials\n",
    "with open(\"go.gcp.id\") as f:\n",
    "    api_key = f.readline()"
   ]
  },
  {
   "cell_type": "code",
   "execution_count": 5,
   "metadata": {},
   "outputs": [
    {
     "name": "stdout",
     "output_type": "stream",
     "text": [
      "Requesting mp3 FEMALE encoded text...\n",
      "Done!\n",
      "Changing format and gender...\n",
      "Done!\n",
      "Playing...played\n"
     ]
    }
   ],
   "source": [
    "# simple docs: https://cloud.google.com/text-to-speech/docs/quickstart-protocol\n",
    "# when enabling API just create API key\n",
    "\n",
    "import requests\n",
    "import base64\n",
    "import wave\n",
    "\n",
    "url = \"https://texttospeech.googleapis.com/v1beta1/text:synthesize\"\n",
    "\n",
    "request_data = {\n",
    "    'input':{\n",
    "        'text': 'Android is a mobile operating system developed by Google.'\n",
    "    },\n",
    "    'voice': {\n",
    "        'languageCode':'en-gb',\n",
    "        'name':'en-GB-Standard-A',\n",
    "        'ssmlGender':'FEMALE'\n",
    "    },\n",
    "    'audioConfig':{\n",
    "        'audioEncoding':'MP3'\n",
    "    }\n",
    "}\n",
    "\n",
    "headers = {\n",
    "    \"X-Goog-Api-Key\": api_key,\n",
    "    \"Content-Type\": \"application/json\"\n",
    "}\n",
    "\n",
    "print(\"Requesting mp3 FEMALE encoded text...\")\n",
    "\n",
    "resp = requests.post(url, json=request_data, headers=headers)\n",
    "assert resp.status_code == 200\n",
    "sound = resp.json()['audioContent']\n",
    "_bytes = base64.b64decode(sound)\n",
    "with open('datasets/sound/google.t2s.mp3', 'wb') as f:\n",
    "    f.write(_bytes)\n",
    "\n",
    "print(\"Done!\")\n",
    "    \n",
    "print(\"Changing format and gender...\")    \n",
    "request_data['audioConfig']['audioEncoding'] = 'LINEAR16'\n",
    "# https://cloud.google.com/text-to-speech/docs/voices\n",
    "request_data['voice']['languageCode'] = 'en-US'\n",
    "request_data['voice']['name'] = 'en-US-Standard-B'\n",
    "request_data['voice']['ssmlGender'] = 'MALE'\n",
    "\n",
    "resp = requests.post(url, json=request_data, headers=headers)\n",
    "assert resp.status_code == 200\n",
    "sound = resp.json()['audioContent']\n",
    "_bytes = base64.b64decode(sound)\n",
    "\n",
    "print(\"Done!\")\n",
    "\n",
    "with open('datasets/sound/google.t2s.wav', 'wb') as f:\n",
    "    f.write(_bytes)\n",
    "wf = wave.open('datasets/sound/google.t2s.wav', 'rb')\n",
    "play_stream(wf, pyaudio.PyAudio())"
   ]
  },
  {
   "cell_type": "code",
   "execution_count": 6,
   "metadata": {},
   "outputs": [
    {
     "name": "stdout",
     "output_type": "stream",
     "text": [
      "^C\n"
     ]
    }
   ],
   "source": [
    "!pip install --upgrade google-cloud-texttospeech"
   ]
  },
  {
   "cell_type": "code",
   "execution_count": null,
   "metadata": {},
   "outputs": [],
   "source": [
    "# or use API\n",
    "# pip install --upgrade google-cloud-texttospeech\n",
    "from google.cloud import texttospeech\n",
    "\n",
    "# setup credentials file first!!!!\n",
    "\n",
    "# client = texttospeech.TextToSpeechClient()\n",
    "# synthesis_input = texttospeech.types.SynthesisInput(text=\"Hello, World!\")\n",
    "\n",
    "print(\"Genders:\", texttospeech.enums.SsmlVoiceGender._member_names_)\n",
    "# voice = texttospeech.types.VoiceSelectionParams(\n",
    "#     language_code='en-US',\n",
    "#     ssml_gender=texttospeech.enums.SsmlVoiceGender.NEUTRAL)\n",
    "\n",
    "print(\"Encodings:\", texttospeech.enums.AudioEncoding._member_names_)\n",
    "# audio_config = texttospeech.types.AudioConfig(audio_encoding=texttospeech.enums.AudioEncoding.MP3)\n",
    "# response = client.synthesize_speech(synthesis_input, voice, audio_config)\n",
    "\n",
    "# with open('datasets/sound/google.t2s.api.mp3', 'wb') as out:\n",
    "#     # Write the response to the output file.\n",
    "#     out.write(response.audio_content)"
   ]
  }
 ],
 "metadata": {
  "kernelspec": {
   "display_name": "Python 3",
   "language": "python",
   "name": "python3"
  },
  "language_info": {
   "codemirror_mode": {
    "name": "ipython",
    "version": 3
   },
   "file_extension": ".py",
   "mimetype": "text/x-python",
   "name": "python",
   "nbconvert_exporter": "python",
   "pygments_lexer": "ipython3",
   "version": "3.8.3"
  }
 },
 "nbformat": 4,
 "nbformat_minor": 4
}
