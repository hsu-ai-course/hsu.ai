{
 "cells": [
  {
   "cell_type": "markdown",
   "metadata": {},
   "source": [
    "## Implement Tic-Tac-Toe bot, which plays first (x)\n",
    "\n",
    "Here is the class for a field representation:"
   ]
  },
  {
   "cell_type": "code",
   "execution_count": 1,
   "metadata": {},
   "outputs": [],
   "source": [
    "import copy\n",
    "import itertools\n",
    "\n",
    "class Field(object):\n",
    "    # state is a 3x3 char matrix\n",
    "    state = None\n",
    "    children = []\n",
    "    minimax_score = None\n",
    "    \n",
    "    def __init__(self, state):\n",
    "        self.state = state\n",
    "    \n",
    "    def __str__(self):\n",
    "        '''\n",
    "        this is a field representation code\n",
    "        '''\n",
    "        \n",
    "        res = \"  | A | B | C |\\n---------------\\n\"\n",
    "        for i, line in enumerate(self.state):\n",
    "            res += \"{} | {} | {} | {} |\\n\".format(i+1, *line)\n",
    "            res += \"---------------\\n\"\n",
    "        return res\n",
    "    \n",
    "    def __repr__(self):\n",
    "        '''\n",
    "        this is a short form to represent a field\n",
    "        '''\n",
    "        return \"\".join(itertools.chain(*self.state))\n",
    "    \n",
    "    def get(self, tpl):\n",
    "        '''\n",
    "        returns a characted in a given position\n",
    "        '''\n",
    "        return self.state[tpl[0]][tpl[1]]\n",
    "    \n",
    "    def make_a_move(self, tpl):\n",
    "        '''\n",
    "        Makes a move and returns a new field\n",
    "        '''\n",
    "        who = self.is_move_of()\n",
    "        state = copy.deepcopy(self.state)\n",
    "        state[tpl[0]][tpl[1]] = who\n",
    "        return Field(state)\n",
    "    \n",
    "    def is_move_of(self):\n",
    "        '''\n",
    "        returns a piece if move can be done and a None if game is over\n",
    "        '''\n",
    "        if self.is_win_of() is not None:\n",
    "            return None\n",
    "        x_moves = len(list(c for c in self.__repr__() if c == 'x'))\n",
    "        o_moves = len(list(c for c in self.__repr__() if c == 'o'))\n",
    "        return 'o' if x_moves > o_moves else 'x'\n",
    "\n",
    "    def is_win_of(self):\n",
    "        # TODO  is this a winning position? \n",
    "        # if yes - who's side? Write your code here\n",
    "        \n",
    "        # if a draw -> return ' '\n",
    "        if ' ' not in self.__repr__():\n",
    "            return ' '\n",
    "        # if game is not over -> return None\n",
    "        return None\n",
    "    \n",
    "    def get_next_move(self):\n",
    "        # TODO: return a field, which is best in terms of minimax for bot's move\n",
    "        return self.children[-1]"
   ]
  },
  {
   "cell_type": "code",
   "execution_count": 2,
   "metadata": {},
   "outputs": [],
   "source": [
    "def get_move_tuple(notation):\n",
    "    '''\n",
    "    Converts notation like 'c1' into a tuple (2, 0)\n",
    "    '''\n",
    "    notation = notation.lower()\n",
    "    if len(notation) != 2:\n",
    "        return None\n",
    "    if (notation[0] not in 'abc') or (notation[1] not in '123'):\n",
    "        return None\n",
    "    return (int(notation[1]) - 1, {'a': 0, 'b': 1, 'c': 2}[notation[0]])"
   ]
  },
  {
   "cell_type": "markdown",
   "metadata": {},
   "source": [
    "***Write here the code, which generates field, which can be derived from the existing field***"
   ]
  },
  {
   "cell_type": "code",
   "execution_count": 3,
   "metadata": {
    "tags": []
   },
   "outputs": [],
   "source": [
    "import copy\n",
    "\n",
    "def generate_children_for_the_field(field):\n",
    "    result = []\n",
    "    if field.is_win_of() is None:\n",
    "        who_moves = field.is_move_of()\n",
    "\n",
    "        # TODO: REwrite the code. It should generate child fields (if possible)\n",
    "        # !!! THIS IS NAIVE APPROACH\n",
    "        # make moves where possible\n",
    "        # ============================================\n",
    "        state = copy.deepcopy(field.state)\n",
    "        for c in range(9):\n",
    "            i, j = c // 3, c % 3\n",
    "            if state[i][j] == ' ':\n",
    "                state[i][j] = who_moves\n",
    "                break \n",
    "        result.append(Field(state))\n",
    "        # ============================================\n",
    "                    \n",
    "    field.children = result\n",
    "    return result"
   ]
  },
  {
   "cell_type": "markdown",
   "metadata": {},
   "source": [
    "***Write the code to update minimax***"
   ]
  },
  {
   "cell_type": "code",
   "execution_count": 4,
   "metadata": {},
   "outputs": [],
   "source": [
    "def update_minimax(field):    \n",
    "    #TODO write a fuction that updates minimax weights for all nodes RECURSIVELY given a tree\n",
    "    field.minimax_score = 0\n",
    "    return field.minimax_score"
   ]
  },
  {
   "cell_type": "markdown",
   "metadata": {},
   "source": [
    "***Generate the field***"
   ]
  },
  {
   "cell_type": "code",
   "execution_count": 5,
   "metadata": {},
   "outputs": [
    {
     "name": "stdout",
     "output_type": "stream",
     "text": [
      "Initial Field\n",
      "  | A | B | C |\n",
      "---------------\n",
      "1 |   |   |   |\n",
      "---------------\n",
      "2 |   |   |   |\n",
      "---------------\n",
      "3 |   |   |   |\n",
      "---------------\n",
      "\n",
      "Total states: 10\n",
      "Root score:  0\n"
     ]
    }
   ],
   "source": [
    "# empty field\n",
    "state0 = [[' ', ' ', ' '], [' ', ' ', ' '], [' ', ' ', ' ']]\n",
    "\n",
    "initial = Field(state0)\n",
    "print(\"Initial Field\")\n",
    "print(initial)\n",
    "\n",
    "# generate a tree\n",
    "# store it as a map {str -> Field}\n",
    "states = {initial.__repr__(): initial}\n",
    "queue = [initial]\n",
    "\n",
    "while queue:\n",
    "    children = generate_children_for_the_field(queue[0]) \n",
    "    queue = queue[1:] + children\n",
    "    for child in children:\n",
    "        states[child.__repr__()] = child\n",
    "\n",
    "print('Total states:', len(states))\n",
    "## BTW, is this ok that some nodes in a tree have the same repr?\n",
    "\n",
    "update_minimax(initial)\n",
    "print(\"Root score: \", initial.minimax_score)"
   ]
  },
  {
   "cell_type": "markdown",
   "metadata": {},
   "source": [
    "## Here is the game engine"
   ]
  },
  {
   "cell_type": "code",
   "execution_count": 6,
   "metadata": {},
   "outputs": [
    {
     "name": "stdout",
     "output_type": "stream",
     "text": [
      "  | A | B | C |\n",
      "---------------\n",
      "1 | x |   |   |\n",
      "---------------\n",
      "2 |   |   |   |\n",
      "---------------\n",
      "3 |   |   |   |\n",
      "---------------\n",
      "\n"
     ]
    },
    {
     "name": "stdin",
     "output_type": "stream",
     "text": [
      "Your move: b1\n"
     ]
    },
    {
     "name": "stdout",
     "output_type": "stream",
     "text": [
      "  | A | B | C |\n",
      "---------------\n",
      "1 | x | o | x |\n",
      "---------------\n",
      "2 |   |   |   |\n",
      "---------------\n",
      "3 |   |   |   |\n",
      "---------------\n",
      "\n"
     ]
    },
    {
     "name": "stdin",
     "output_type": "stream",
     "text": [
      "Your move: a2\n"
     ]
    },
    {
     "name": "stdout",
     "output_type": "stream",
     "text": [
      "  | A | B | C |\n",
      "---------------\n",
      "1 | x | o | x |\n",
      "---------------\n",
      "2 | o | x |   |\n",
      "---------------\n",
      "3 |   |   |   |\n",
      "---------------\n",
      "\n"
     ]
    },
    {
     "name": "stdin",
     "output_type": "stream",
     "text": [
      "Your move: c2\n"
     ]
    },
    {
     "name": "stdout",
     "output_type": "stream",
     "text": [
      "  | A | B | C |\n",
      "---------------\n",
      "1 | x | o | x |\n",
      "---------------\n",
      "2 | o | x | o |\n",
      "---------------\n",
      "3 | x |   |   |\n",
      "---------------\n",
      "\n"
     ]
    },
    {
     "ename": "KeyboardInterrupt",
     "evalue": "Interrupted by user",
     "output_type": "error",
     "traceback": [
      "\u001b[1;31m---------------------------------------------------------------------------\u001b[0m",
      "\u001b[1;31mKeyboardInterrupt\u001b[0m                         Traceback (most recent call last)",
      "\u001b[1;32m<ipython-input-6-20490db50d2e>\u001b[0m in \u001b[0;36m<module>\u001b[1;34m\u001b[0m\n\u001b[0;32m     11\u001b[0m         \u001b[1;32mbreak\u001b[0m\u001b[1;33m\u001b[0m\u001b[1;33m\u001b[0m\u001b[0m\n\u001b[0;32m     12\u001b[0m     \u001b[1;31m# ask for a move\u001b[0m\u001b[1;33m\u001b[0m\u001b[1;33m\u001b[0m\u001b[1;33m\u001b[0m\u001b[0m\n\u001b[1;32m---> 13\u001b[1;33m     \u001b[0mm\u001b[0m \u001b[1;33m=\u001b[0m \u001b[0minput\u001b[0m\u001b[1;33m(\u001b[0m\u001b[1;34m\"Your move:\"\u001b[0m\u001b[1;33m)\u001b[0m\u001b[1;33m\u001b[0m\u001b[1;33m\u001b[0m\u001b[0m\n\u001b[0m\u001b[0;32m     14\u001b[0m     \u001b[0mtpl\u001b[0m \u001b[1;33m=\u001b[0m \u001b[0mget_move_tuple\u001b[0m\u001b[1;33m(\u001b[0m\u001b[0mm\u001b[0m\u001b[1;33m)\u001b[0m\u001b[1;33m\u001b[0m\u001b[1;33m\u001b[0m\u001b[0m\n\u001b[0;32m     15\u001b[0m     \u001b[1;32mif\u001b[0m \u001b[0mfield\u001b[0m\u001b[1;33m.\u001b[0m\u001b[0mget\u001b[0m\u001b[1;33m(\u001b[0m\u001b[0mtpl\u001b[0m\u001b[1;33m)\u001b[0m \u001b[1;33m!=\u001b[0m \u001b[1;34m' '\u001b[0m\u001b[1;33m:\u001b[0m \u001b[0mtpl\u001b[0m \u001b[1;33m=\u001b[0m \u001b[1;32mNone\u001b[0m\u001b[1;33m\u001b[0m\u001b[1;33m\u001b[0m\u001b[0m\n",
      "\u001b[1;32m~\\anaconda3\\lib\\site-packages\\ipykernel\\kernelbase.py\u001b[0m in \u001b[0;36mraw_input\u001b[1;34m(self, prompt)\u001b[0m\n\u001b[0;32m    858\u001b[0m                 \u001b[1;34m\"raw_input was called, but this frontend does not support input requests.\"\u001b[0m\u001b[1;33m\u001b[0m\u001b[1;33m\u001b[0m\u001b[0m\n\u001b[0;32m    859\u001b[0m             )\n\u001b[1;32m--> 860\u001b[1;33m         return self._input_request(str(prompt),\n\u001b[0m\u001b[0;32m    861\u001b[0m             \u001b[0mself\u001b[0m\u001b[1;33m.\u001b[0m\u001b[0m_parent_ident\u001b[0m\u001b[1;33m,\u001b[0m\u001b[1;33m\u001b[0m\u001b[1;33m\u001b[0m\u001b[0m\n\u001b[0;32m    862\u001b[0m             \u001b[0mself\u001b[0m\u001b[1;33m.\u001b[0m\u001b[0m_parent_header\u001b[0m\u001b[1;33m,\u001b[0m\u001b[1;33m\u001b[0m\u001b[1;33m\u001b[0m\u001b[0m\n",
      "\u001b[1;32m~\\anaconda3\\lib\\site-packages\\ipykernel\\kernelbase.py\u001b[0m in \u001b[0;36m_input_request\u001b[1;34m(self, prompt, ident, parent, password)\u001b[0m\n\u001b[0;32m    902\u001b[0m             \u001b[1;32mexcept\u001b[0m \u001b[0mKeyboardInterrupt\u001b[0m\u001b[1;33m:\u001b[0m\u001b[1;33m\u001b[0m\u001b[1;33m\u001b[0m\u001b[0m\n\u001b[0;32m    903\u001b[0m                 \u001b[1;31m# re-raise KeyboardInterrupt, to truncate traceback\u001b[0m\u001b[1;33m\u001b[0m\u001b[1;33m\u001b[0m\u001b[1;33m\u001b[0m\u001b[0m\n\u001b[1;32m--> 904\u001b[1;33m                 \u001b[1;32mraise\u001b[0m \u001b[0mKeyboardInterrupt\u001b[0m\u001b[1;33m(\u001b[0m\u001b[1;34m\"Interrupted by user\"\u001b[0m\u001b[1;33m)\u001b[0m \u001b[1;32mfrom\u001b[0m \u001b[1;32mNone\u001b[0m\u001b[1;33m\u001b[0m\u001b[1;33m\u001b[0m\u001b[0m\n\u001b[0m\u001b[0;32m    905\u001b[0m             \u001b[1;32mexcept\u001b[0m \u001b[0mException\u001b[0m \u001b[1;32mas\u001b[0m \u001b[0me\u001b[0m\u001b[1;33m:\u001b[0m\u001b[1;33m\u001b[0m\u001b[1;33m\u001b[0m\u001b[0m\n\u001b[0;32m    906\u001b[0m                 \u001b[0mself\u001b[0m\u001b[1;33m.\u001b[0m\u001b[0mlog\u001b[0m\u001b[1;33m.\u001b[0m\u001b[0mwarning\u001b[0m\u001b[1;33m(\u001b[0m\u001b[1;34m\"Invalid Message:\"\u001b[0m\u001b[1;33m,\u001b[0m \u001b[0mexc_info\u001b[0m\u001b[1;33m=\u001b[0m\u001b[1;32mTrue\u001b[0m\u001b[1;33m)\u001b[0m\u001b[1;33m\u001b[0m\u001b[1;33m\u001b[0m\u001b[0m\n",
      "\u001b[1;31mKeyboardInterrupt\u001b[0m: Interrupted by user"
     ]
    }
   ],
   "source": [
    "from IPython.display import clear_output\n",
    "\n",
    "field = initial\n",
    "while field.is_win_of() is None:\n",
    "    # make a bot move\n",
    "    field = field.get_next_move()\n",
    "    # show it\n",
    "    print(field)\n",
    "    # if bot wins\n",
    "    if field.is_win_of() is not None:\n",
    "        break\n",
    "    # ask for a move\n",
    "    m = input(\"Your move:\")\n",
    "    tpl = get_move_tuple(m)\n",
    "    if field.get(tpl) != ' ': tpl = None\n",
    "    while tpl is None:\n",
    "        print(\"Provide something like `b3` of an empty field\")\n",
    "        m = input(\"Your move:\")\n",
    "        tpl = get_move_tuple(m)\n",
    "        # fail if the firld\n",
    "        if field.get(tpl) != ' ':\n",
    "            tpl = None\n",
    "    # first build a representation, then retrieve a field from the tree\n",
    "    field = states[field.make_a_move(tpl).__repr__()]\n",
    "        \n",
    "print(field.is_win_of(), \"wins\")"
   ]
  }
 ],
 "metadata": {
  "kernelspec": {
   "display_name": "Python 3",
   "language": "python",
   "name": "python3"
  },
  "language_info": {
   "codemirror_mode": {
    "name": "ipython",
    "version": 3
   },
   "file_extension": ".py",
   "mimetype": "text/x-python",
   "name": "python",
   "nbconvert_exporter": "python",
   "pygments_lexer": "ipython3",
   "version": "3.8.3"
  }
 },
 "nbformat": 4,
 "nbformat_minor": 4
}
