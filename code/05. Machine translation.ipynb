{
 "cells": [
  {
   "cell_type": "code",
   "execution_count": null,
   "metadata": {},
   "outputs": [],
   "source": [
    "!pip install yandex-translater"
   ]
  },
  {
   "cell_type": "code",
   "execution_count": 2,
   "metadata": {},
   "outputs": [],
   "source": [
    "# this fixes ya lib problem\n",
    "import locale\n",
    "locale.setlocale(locale.LC_ALL, '')\n",
    "\n",
    "# Api key found on https://translate.yandex.com/developers/keys\n",
    "api_key = open(\"yandex.translate.key\").read()   # todo your key in the file\n",
    "\n",
    "from yandex.Translater import Translater\n",
    "tr = Translater()"
   ]
  },
  {
   "cell_type": "code",
   "execution_count": 3,
   "metadata": {},
   "outputs": [
    {
     "name": "stdout",
     "output_type": "stream",
     "text": [
      "How much is the fish?\n"
     ]
    }
   ],
   "source": [
    "query = \"¿Cuánto es el pescado?\"\n",
    "tr.set_key(api_key)\n",
    "tr.set_from_lang('es')\n",
    "tr.set_to_lang('en')\n",
    "\n",
    "tr.set_text(query)\n",
    "result = tr.translate()\n",
    "\n",
    "print(result)"
   ]
  }
 ],
 "metadata": {
  "kernelspec": {
   "display_name": "Python 3",
   "language": "python",
   "name": "python3"
  },
  "language_info": {
   "codemirror_mode": {
    "name": "ipython",
    "version": 3
   },
   "file_extension": ".py",
   "mimetype": "text/x-python",
   "name": "python",
   "nbconvert_exporter": "python",
   "pygments_lexer": "ipython3",
   "version": "3.8.5"
  }
 },
 "nbformat": 4,
 "nbformat_minor": 4
}
