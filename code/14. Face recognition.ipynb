{
 "cells": [
  {
   "cell_type": "code",
   "execution_count": 1,
   "metadata": {},
   "outputs": [
    {
     "name": "stdout",
     "output_type": "stream",
     "text": [
      "Collecting cmake\n",
      "  Downloading cmake-3.18.4.post1-py3-none-win_amd64.whl (34.7 MB)\n",
      "Installing collected packages: cmake\n",
      "Successfully installed cmake-3.18.4.post1\n",
      "^C\n"
     ]
    }
   ],
   "source": [
    "!pip install cmake\n",
    "!pip install face_recognition"
   ]
  },
  {
   "cell_type": "code",
   "execution_count": 1,
   "metadata": {},
   "outputs": [],
   "source": [
    "import matplotlib.pyplot as plt\n",
    "import numpy as np\n",
    "import cv2\n",
    "\n",
    "def from_camera(n):\n",
    "    cap = cv2.VideoCapture(n)\n",
    "    ret, frame = cap.read()\n",
    "    frame = cv2.cvtColor(frame, cv2.COLOR_BGR2RGB)\n",
    "    cap.release()\n",
    "    plt.imshow(frame)\n",
    "    plt.show()\n",
    "    return frame"
   ]
  },
  {
   "cell_type": "code",
   "execution_count": 2,
   "metadata": {},
   "outputs": [],
   "source": [
    "import face_recognition\n",
    "import pickle\n",
    "\n",
    "# Take a foto of yourself with a camera. Or load from file\n",
    "# you = from_camera(0)  \n",
    "you = face_recognition.load_image_file('C:/dev/stas.jpg')\n",
    "course = face_recognition.load_image_file('C:/dev/course.jpg')"
   ]
  },
  {
   "cell_type": "code",
   "execution_count": 3,
   "metadata": {},
   "outputs": [
    {
     "name": "stdout",
     "output_type": "stream",
     "text": [
      "Detect with HoG: [(204, 504, 590, 118)]\n",
      "Detect with CNN: [(177, 457, 529, 105)]\n",
      "Embedding size: (128,)\n"
     ]
    }
   ],
   "source": [
    "face_locations = face_recognition.face_locations(you)\n",
    "print(\"Detect with HoG:\", face_locations)\n",
    "face_locations2 = face_recognition.face_locations(you, model='cnn')\n",
    "print(\"Detect with CNN:\", face_locations2)\n",
    "\n",
    "embeddings = face_recognition.face_encodings(you, known_face_locations=face_locations2)\n",
    "print(\"Embedding size:\", embeddings[0].shape)"
   ]
  },
  {
   "cell_type": "code",
   "execution_count": 11,
   "metadata": {},
   "outputs": [
    {
     "name": "stdout",
     "output_type": "stream",
     "text": [
      "b'AAAAgAWPtr8AAABARUSwPwAAAMDV4po/AAAAgO8fn78AAACAWbe2vwAAAMC4zJc/AAAAIKg0rL8AAABARju/vwAAAIAMt8E/AAAA4IH8tL8AAAAA7iLNPwAAACDk7qi/AAAAoDD00L8AAABA2oOkvwAAAIDtfqk/AAAAwPgEvD8AAACgfzTKvwAAAAAcoba/AAAAYIv7tr8AAABAzWKvvwAAAKAPQrQ/AAAAwDjYnz8AAAAgCwF2PwAAACDGZKc/AAAAQBtBt78AAACAG6DUvwAAAEAS6bS/AAAAACJsvL8AAAAAoEy+PwAAACCwOra/AAAA4Dupsr8AAABAo8CaPwAAAGDwo7u/AAAAgDfjmr8AAAAAAH3rPgAAAEDwO64/AAAAQFgQi78AAACAIWm/vwAAAECPRM4/AAAA4EqIsL8AAACA1eLAvwAAAID+LZ6/AAAAwPC/rT8AAADgPgPNPwAAAKDH4Mc/AAAAYFFepD8AAABA7M2ePwAAAMAbbI8/AAAAQF7cuD8AAACA4JLOvwAAAMC3krc/AAAAQHSIvz8AAAAg7TDEPwAAACBNe7g/AAAAgLCvvT8AAADgs4bPvwAAAAAwLJG/AAAAwFmPwT8AAACAbji6vwAAAGC918A/AAAAgHVKoD8AAACgUdnEvwAAAABr2aw/AAAAAAXUsL8AAAAg/0jRPwAAAACYrKk/AAAAAJBfur8AAABA7rqyvwAAACBaLL0/AAAAgLbCtr8AAAAA2p65vwAAAACAlwe/AAAAoEaWxb8AAACgBfXBvwAAAKDbXdO/AAAAwAO2gj8AAADAvNnVPwAAAEDVF70/AAAAAIAu0b8AAACgk8KKPwAAAGANMJy/AAAAgB+7r78AAABgPA27PwAAAIDLxbc/AAAAACL6cr8AAABAlBu3vwAAAIBWd8O/AAAAQCrcj78AAAAAWgXQPwAAAAC/wau/AAAAgNkghL8AAADgNL7MPwAAAMBq54G/AAAAIDzfeb8AAAAA9vWCPwAAAACzGp8/AAAAIF5nsL8AAACAhYGpvwAAAAAOxaq/AAAAoBEdlD8AAADASEyqPwAAAECuvMG/AAAA4JRYqb8AAAAAzOi5PwAAAIB/J8y/AAAAIBhwvT8AAACArm+QPwAAAABo7TA/AAAAgMY2j78AAAAAh2uovwAAAED2kby/AAAAYND3mT8AAAAg3STLPwAAAGD0ndG/AAAAwAl0zD8AAABA73DLPwAAAABOEq4/AAAA4EofyD8AAAAA2bOVvwAAAIAMd7Y/AAAAQG9PcT8AAAAAuz9rPwAAAACtfsa/AAAA4FVCvb8AAADgV6mjPwAAAAD+dGI/AAAAwNWekz8AAABghQ2/Pw=='\n"
     ]
    }
   ],
   "source": [
    "import base64\n",
    "\n",
    "your_face = base64.b64encode(embeddings[0].tostring())\n",
    "print(your_face)\n",
    "\n",
    "# TODO: sumbit the string you get here to a common chat"
   ]
  },
  {
   "cell_type": "code",
   "execution_count": 33,
   "metadata": {},
   "outputs": [
    {
     "data": {
      "text/plain": [
       "[True, False]"
      ]
     },
     "execution_count": 33,
     "metadata": {},
     "output_type": "execute_result"
    }
   ],
   "source": [
    "faces = {\n",
    "    \"Stas\"          : your_face,\n",
    "    \"Someone\"       : \"AAAAIPBctb8AAADA6kOmPwAAAID+07U/AAAAYMiTt78AAACAbKe+vwAAAADRAYS/AAAAoK5ltr8AAABAR0GzvwAAAEAap70/AAAAoE1Fwb8AAABALj/KPwAAAEDPdLC/AAAAIK/Yx78AAAAAaTubPwAAAAAUX5C/AAAAwJSLyj8AAABgTUDFvwAAACA/PMS/AAAAwCPHsb8AAAAAoZmivwAAAABxY68/AAAAgMEclT8AAAAg1++wvwAAAOAAdrc/AAAAgGRcx78AAABAM2nSvwAAAKAlJbC/AAAAQKXrmr8AAADAIhd7vwAAAEDUl7i/AAAAANRcXD8AAABAbXfCPwAAAMAp/7i/AAAAwFw4sT8AAAAglcSwPwAAAACvV8A/AAAAAPormr8AAACAd+DBvwAAAEBmZ8o/AAAAQCDDkr8AAACABxDUvwAAAIDaJam/AAAAwH4WwT8AAAAAKCHHPwAAAMBB0s4/AAAAAJXtnz8AAAAA5N5xPwAAAAA396u/AAAAQNZWwD8AAABAjFHPvwAAAICbccE/AAAAYD4Xwz8AAADgXw6IPwAAAIBZtME/AAAAAOvDpj8AAAAASGPEvwAAAAAwBW8/AAAAIDgmxT8AAAAAEiLKvwAAAEBTea+/AAAAwF91sT8AAAAAzYPBvwAAAOCf0JK/AAAAgCJ2wb8AAAAAHGTDPwAAAGA3mMc/AAAAgMonvL8AAADg7HLKvwAAAODscs0/AAAAwNM+y78AAABAbmTFvwAAAICaXrU/AAAAoKkOwL8AAADgLA7AvwAAAIAI0dO/AAAAAGd6or8AAABAoPbUPwAAAGCOgMc/AAAAoHpwvb8AAACgLyOoPwAAAODhNKs/AAAAQBdRtL8AAACAnl2lPwAAAMDycsM/AAAAQHSxlT8AAAAAuZ+mvwAAAABs5pE/AAAAAKRom78AAAAglOfOPwAAAGDU2rA/AAAA4IiAmr8AAADAnJrKPwAAAAAVFoc/AAAAYIBCsr8AAACAcqubPwAAAMAktbE/AAAAwK8/pr8AAADANsGSvwAAAMBBKb2/AAAAQKWFrr8AAABA3cmovwAAAICryIM/AAAAADIwlb8AAAAAeTXGPwAAAACA88q/AAAAYL/szj8AAACAsASfvwAAAEBs56I/AAAAAPh9Vj8AAAAAUTOfPwAAAMBuTqW/AAAAAIyRk78AAAAgdQ/CPwAAAMAyJ86/AAAAQArxuT8AAABA9xjAPwAAAKAnrLs/AAAAIAw7vD8AAACggR+xPwAAAICoasA/AAAAACVMnj8AAADg6w+4vwAAAEDTIdG/AAAAgBSysr8AAABA/NmyPwAAAIC9fqm/AAAAACbprT8AAACAXPe5Pw==\",\n",
    "    \"Danila\"        : \"\",\n",
    "    \"Mary\"          : \"\",\n",
    "    \"Hussain\"       : \"\",\n",
    "    \"Anton\"         : \"\",\n",
    "    \"Amir\"          : \"\",\n",
    "    \"Kamil\"         : \"\",\n",
    "    \"Albert\"        : \"\",\n",
    "    \"Mikhail M\"     : \"\",\n",
    "    \"Vadim\"         : \"\",\n",
    "    \"Mikhail T\"     : \"\",\n",
    "    \"Roman\"         : \"\",\n",
    "    \"Alexander\"     : \"\",\n",
    "    \"Vyacheslav\"    : \"\",\n",
    "    \"Arina\"         : \"\",\n",
    "    \"Daria\"         : \"\",\n",
    "    \"Zuhair\"        : \"\",\n",
    "    \"Temur\"         : \"\",\n",
    "    \"Abdurasul\"     : \"\",\n",
    "    \"Evgenia\"       : \"\",\n",
    "    # TODO add names of your classmates\n",
    "}\n",
    "\n",
    "face_bytes = dict((k, base64.b64decode(v)) for k, v in faces.items())\n",
    "face_embeddings = dict((k, np.frombuffer(v, dtype=float) if len(v) > 0 else None) for k, v in face_bytes.items())\n",
    "\n",
    "embeddings_only = [x for x in face_embeddings.values() if x is not None]\n",
    "# check\n",
    "face_recognition.compare_faces(embeddings_only, face_embeddings['Stas'], tolerance = 0.5)"
   ]
  },
  {
   "cell_type": "markdown",
   "metadata": {},
   "source": [
    "## TODO\n",
    "1. Switch on your camera in zoom.\n",
    "2. When everyone is online, take a screenshot.\n",
    "3. Load an image with `face_recognition.load_image_file`.\n",
    "4. Detect all faces on the image using `face_recognition.compare_faces`.\n",
    "5. Draw bounding boxes and [write](https://stackoverflow.com/a/34273603) names on a screenshot.\n",
    "6. Submit result to chat."
   ]
  }
 ],
 "metadata": {
  "kernelspec": {
   "display_name": "Python 3",
   "language": "python",
   "name": "python3"
  },
  "language_info": {
   "codemirror_mode": {
    "name": "ipython",
    "version": 3
   },
   "file_extension": ".py",
   "mimetype": "text/x-python",
   "name": "python",
   "nbconvert_exporter": "python",
   "pygments_lexer": "ipython3",
   "version": "3.8.3"
  }
 },
 "nbformat": 4,
 "nbformat_minor": 4
}
