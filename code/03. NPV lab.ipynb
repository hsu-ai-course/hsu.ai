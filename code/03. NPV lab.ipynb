{
 "cells": [
  {
   "cell_type": "code",
   "execution_count": 3,
   "metadata": {},
   "outputs": [
    {
     "name": "stdout",
     "output_type": "stream",
     "text": [
      "Requirement already satisfied: sympy in c:\\anaconda\\lib\\site-packages (1.6.2)\n",
      "Requirement already satisfied: mpmath>=0.19 in c:\\anaconda\\lib\\site-packages (from sympy) (1.1.0)\n"
     ]
    }
   ],
   "source": [
    "!pip install sympy"
   ]
  },
  {
   "cell_type": "code",
   "execution_count": 1,
   "metadata": {},
   "outputs": [],
   "source": [
    "# find discount rate, that will give positive NPV for a given cash flow\n",
    "# search for real roots only\n",
    "import sympy"
   ]
  },
  {
   "cell_type": "markdown",
   "metadata": {},
   "source": [
    "# Simple example"
   ]
  },
  {
   "cell_type": "code",
   "execution_count": 2,
   "metadata": {},
   "outputs": [
    {
     "name": "stdout",
     "output_type": "stream",
     "text": [
      "<class 'sympy.core.add.Add'> x**3 + x**2\n",
      "<class 'sympy.core.relational.Equality'> Eq(x**3 + x**2, y)\n",
      "FiniteSet(-(-27*y/2 + sqrt((2 - 27*y)**2 - 4)/2 + 1)**(1/3)/3 - 1/3 - 1/(3*(-27*y/2 + sqrt((2 - 27*y)**2 - 4)/2 + 1)**(1/3)), -(-1/2 - sqrt(3)*I/2)*(-27*y/2 + sqrt((2 - 27*y)**2 - 4)/2 + 1)**(1/3)/3 - 1/3 - 1/(3*(-1/2 - sqrt(3)*I/2)*(-27*y/2 + sqrt((2 - 27*y)**2 - 4)/2 + 1)**(1/3)), -(-1/2 + sqrt(3)*I/2)*(-27*y/2 + sqrt((2 - 27*y)**2 - 4)/2 + 1)**(1/3)/3 - 1/3 - 1/(3*(-1/2 + sqrt(3)*I/2)*(-27*y/2 + sqrt((2 - 27*y)**2 - 4)/2 + 1)**(1/3)))\n",
      "FiniteSet(x**3 + x**2)\n",
      "\n",
      "<class 'sympy.core.relational.Equality'> Eq(x**3 + x**2, 4)\n",
      "All   FiniteSet(-1/3 + 1/(9*(2*sqrt(78)/9 + 53/27)**(1/3)) + (2*sqrt(78)/9 + 53/27)**(1/3), -(2*sqrt(78)/9 + 53/27)**(1/3)/2 - 1/3 - 1/(18*(2*sqrt(78)/9 + 53/27)**(1/3)) + I*(-sqrt(3)/(18*(2*sqrt(78)/9 + 53/27)**(1/3)) + sqrt(3)*(2*sqrt(78)/9 + 53/27)**(1/3)/2), -(2*sqrt(78)/9 + 53/27)**(1/3)/2 - 1/3 - 1/(18*(2*sqrt(78)/9 + 53/27)**(1/3)) + I*(-sqrt(3)*(2*sqrt(78)/9 + 53/27)**(1/3)/2 + sqrt(3)/(18*(2*sqrt(78)/9 + 53/27)**(1/3))))\n",
      "Real  FiniteSet(-1/3 + 1/(9*(2*sqrt(78)/9 + 53/27)**(1/3)) + (2*sqrt(78)/9 + 53/27)**(1/3))\n",
      "Float FiniteSet(1.31459621227675)\n"
     ]
    }
   ],
   "source": [
    "x, y = sympy.symbols(\"x y\")\n",
    "function = x ** 2 + x ** 3\n",
    "print(type(function), function)\n",
    "\n",
    "equation = sympy.Eq(function, y)\n",
    "print(type(equation), equation)\n",
    "\n",
    "print(sympy.solveset(equation, x))\n",
    "print(sympy.solveset(equation, y))\n",
    "\n",
    "print()\n",
    "equation = sympy.Eq(function, 4)\n",
    "print(type(equation), equation)\n",
    "print(\"All  \", sympy.solveset(equation, x))\n",
    "print(\"Real \", sympy.solveset(equation, x, domain=sympy.S.Reals))\n",
    "print(\"Float\", sympy.solveset(equation, x, domain=sympy.S.Reals).evalf())"
   ]
  },
  {
   "cell_type": "markdown",
   "metadata": {},
   "source": [
    "# NPV task. \n",
    "Evaluate discount rate given NPV > 0 and cash flow"
   ]
  },
  {
   "cell_type": "code",
   "execution_count": 8,
   "metadata": {},
   "outputs": [],
   "source": [
    "def discount_rate(cashflow, npv):\n",
    "    r = sympy.symbols('r')\n",
    "    T = len(cashflow) - 1\n",
    "    sum_ = 0 \n",
    "    for i, x in enumerate(cashflow):\n",
    "        sum_ = sum_ + (x /(1 + r) ** i)\n",
    "    print(sum_)\n",
    "    s = 0.0\n",
    "    # write your code here\n",
    "    \n",
    "    return s"
   ]
  },
  {
   "cell_type": "code",
   "execution_count": null,
   "metadata": {},
   "outputs": [],
   "source": [
    "print(discount_rate([-100, 50, 50, 50, 60], 0.001))"
   ]
  }
 ],
 "metadata": {
  "kernelspec": {
   "display_name": "Python 3",
   "language": "python",
   "name": "python3"
  },
  "language_info": {
   "codemirror_mode": {
    "name": "ipython",
    "version": 3
   },
   "file_extension": ".py",
   "mimetype": "text/x-python",
   "name": "python",
   "nbconvert_exporter": "python",
   "pygments_lexer": "ipython3",
   "version": "3.8.5"
  }
 },
 "nbformat": 4,
 "nbformat_minor": 4
}
